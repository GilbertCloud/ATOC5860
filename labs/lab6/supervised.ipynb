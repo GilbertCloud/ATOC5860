{
  "cells": [
    {
      "cell_type": "markdown",
      "metadata": {
        "id": "ZMwItiXEIV4u"
      },
      "source": [
        "# ATOC5860 Application Lab #6 - supervised_ML\n",
        "Written by Dr. Middlemas (formerly CU, now PricewaterhouseCoopers) with additional commenting/organizing by Prof. Kay (CU)  \n",
        "Last updated April 18, 2023  "
      ]
    },
    {
      "cell_type": "markdown",
      "metadata": {
        "id": "M1ig9dv0IV4y"
      },
      "source": [
        "__Learning Goals:__<br>\n",
        "1.\tBuild familiarity with the data processing pipeline (workflow) required to utilize supervised machine learning techniques.\n",
        "2.\tImplement and compare four different supervised learning algorithms \n",
        "3.\tUnderstanding two outcomes of supervised learning algorithms: prediction and feature importance.\n",
        "4.\tStart building a foundation for future machine learning including the following terms: cross-validation, training vs. testing data, metrics (accuracy, recall, precision, f1 score, etc.), overfitting/underfitting, balancing datasets, hyperparameters, & feature importance.  Some future learning resources are provided… but there’s a lot available!  Share resources you find valuable."
      ]
    },
    {
      "cell_type": "markdown",
      "metadata": {
        "id": "H_r0e1rZIV4y"
      },
      "source": [
        "### DATA and UNDERLYING SCIENCE MOTIVATION:  \n",
        "\n",
        "We will use the Christman dataset which contains weather observations from Fort Collins, Colorado for the year 2016. We will build and train four machine learning models to predict something we already know from the dataset: Is it raining?. The point is not to conduct cutting-edge research or make novel predictions. Instead, the purpose here is to showcase supervised machine learning (ML) models and methods. By the end, we hope you can walk away with more confidence to learn and apply these tools to new problems.\n",
        "\n",
        "Let's say you want to determine which features or atmospheric variables are the best predictors of rainfall. Often, one simply regresses some metric of precipitation onto various atmospheric variables. Then, you assume that whatever returns the highest regression coefficient is the best predictor. While this approach with linear regression presents a fine first guess, it poses a few problems. Linear regression assumes: 1) atmospheric variables are linearly related to precipitation, 2) atmospheric variables are uncorrelated. Yet, both are false assumptions. While a linear relationship between predictor & predictand is a good first guess, why limit yourself to linearity when you can just as easily relax that assumption using supervised Machine Learning...\n"
      ]
    },
    {
      "cell_type": "markdown",
      "metadata": {
        "id": "77aJjuXm5NJi"
      },
      "source": [
        "**Questions to guide your analysis** \n",
        "\n",
        "1) Which machine learning model performs the best to predict rainfall?  What metrics did you use to make this assessment?\n",
        "\n",
        "2) Describe the difference between accuracy and recall.  Why did we choose to use accuracy, recall, and predicted precipitation probability as a way to compare models?  In forecasting: when is a false positive (you said it would rain, it didn’t rain) preferred over a false negative (you said it wouldn’t rain, it did rain)? \n",
        "\n",
        "3) One important \"gotcha\" in a machine learning workflow or pipeline is the order of data preparation. Why should one should perform the train-test split before feature scaling and rebalancing? Hint: think about using a trained model for future predictions. Do you want your scaling of the testing data to depend on the training data? Why perform a test-train split at all? \n",
        "\n",
        "4) Collinearity, or non-zero correlation among features, results in a model that is overly complex, reduces the statistical significance of the fit of the model, and prevents one from correctly identifying the importance of features. Are there features included in our machine learning models to predict rain in the Christman dataset that are collinear? If so, how do you think we should address this collinearity? A couple of suggestions: If we don't have that many features, we could use our meteorological expertise to simply remove one of the features that shares collinearity with other features. Another way to address collinearity is to use feature regularization, or add weights that penalize features that add noise, ultimately reducing model complexity."
      ]
    },
    {
      "cell_type": "markdown",
      "metadata": {
        "id": "oHnK7nCUIV4z"
      },
      "source": [
        "# Part 1. Read in data into a pandas dataframe."
      ]
    },
    {
      "cell_type": "markdown",
      "metadata": {
        "id": "A6jkGzBvIV4z"
      },
      "source": [
        "*WARNING: You will need to change the path to match where you have put the Christman dataset on your google drive!*"
      ]
    },
    {
      "cell_type": "code",
      "execution_count": 2,
      "metadata": {
        "colab": {
          "base_uri": "https://localhost:8080/"
        },
        "id": "NKczxi_3IV40",
        "outputId": "c9accfb1-ce61-4d4a-ff33-c8d721edf1b6"
      },
      "outputs": [],
      "source": [
        "import pandas as pd\n",
        "import numpy as np\n",
        "import datetime\n",
        "import time\n",
        "\n",
        "# from google.colab import drive\n",
        "# drive.mount('/content/drive/', force_remount=True)"
      ]
    },
    {
      "cell_type": "code",
      "execution_count": 3,
      "metadata": {
        "colab": {
          "base_uri": "https://localhost:8080/",
          "height": 520
        },
        "id": "5Trskz-u4kEm",
        "outputId": "d5451853-af41-4607-f13b-fa477b56c91b"
      },
      "outputs": [
        {
          "data": {
            "text/html": [
              "<div>\n",
              "<style scoped>\n",
              "    .dataframe tbody tr th:only-of-type {\n",
              "        vertical-align: middle;\n",
              "    }\n",
              "\n",
              "    .dataframe tbody tr th {\n",
              "        vertical-align: top;\n",
              "    }\n",
              "\n",
              "    .dataframe thead th {\n",
              "        text-align: right;\n",
              "    }\n",
              "</style>\n",
              "<table border=\"1\" class=\"dataframe\">\n",
              "  <thead>\n",
              "    <tr style=\"text-align: right;\">\n",
              "      <th></th>\n",
              "      <th>day</th>\n",
              "      <th>hour</th>\n",
              "      <th>temp_F</th>\n",
              "      <th>RH</th>\n",
              "      <th>dewtemp_F</th>\n",
              "      <th>wind_mph</th>\n",
              "      <th>wind_dir</th>\n",
              "      <th>windgust</th>\n",
              "      <th>windgust_dir</th>\n",
              "      <th>pres_Hg</th>\n",
              "      <th>SOLIN_Wm2</th>\n",
              "      <th>Prec_inches</th>\n",
              "    </tr>\n",
              "  </thead>\n",
              "  <tbody>\n",
              "    <tr>\n",
              "      <th>2819</th>\n",
              "      <td>42487</td>\n",
              "      <td>0.458333</td>\n",
              "      <td>46.3</td>\n",
              "      <td>49.6</td>\n",
              "      <td>28.4</td>\n",
              "      <td>9.6</td>\n",
              "      <td>198</td>\n",
              "      <td>17.7</td>\n",
              "      <td>162</td>\n",
              "      <td>834.44</td>\n",
              "      <td>511.5</td>\n",
              "      <td>0.00</td>\n",
              "    </tr>\n",
              "    <tr>\n",
              "      <th>6415</th>\n",
              "      <td>42637</td>\n",
              "      <td>0.291667</td>\n",
              "      <td>42.3</td>\n",
              "      <td>75.5</td>\n",
              "      <td>35.1</td>\n",
              "      <td>3.8</td>\n",
              "      <td>146</td>\n",
              "      <td>12.0</td>\n",
              "      <td>78</td>\n",
              "      <td>840.22</td>\n",
              "      <td>85.0</td>\n",
              "      <td>0.00</td>\n",
              "    </tr>\n",
              "    <tr>\n",
              "      <th>653</th>\n",
              "      <td>42397</td>\n",
              "      <td>0.208333</td>\n",
              "      <td>28.0</td>\n",
              "      <td>63.5</td>\n",
              "      <td>17.2</td>\n",
              "      <td>5.0</td>\n",
              "      <td>202</td>\n",
              "      <td>9.2</td>\n",
              "      <td>249</td>\n",
              "      <td>844.63</td>\n",
              "      <td>0.0</td>\n",
              "      <td>0.00</td>\n",
              "    </tr>\n",
              "    <tr>\n",
              "      <th>3319</th>\n",
              "      <td>42508</td>\n",
              "      <td>0.291667</td>\n",
              "      <td>45.3</td>\n",
              "      <td>71.0</td>\n",
              "      <td>36.5</td>\n",
              "      <td>2.0</td>\n",
              "      <td>72</td>\n",
              "      <td>4.3</td>\n",
              "      <td>92</td>\n",
              "      <td>846.20</td>\n",
              "      <td>298.4</td>\n",
              "      <td>0.00</td>\n",
              "    </tr>\n",
              "    <tr>\n",
              "      <th>782</th>\n",
              "      <td>42402</td>\n",
              "      <td>0.583333</td>\n",
              "      <td>22.9</td>\n",
              "      <td>62.2</td>\n",
              "      <td>11.9</td>\n",
              "      <td>7.0</td>\n",
              "      <td>322</td>\n",
              "      <td>10.3</td>\n",
              "      <td>319</td>\n",
              "      <td>836.41</td>\n",
              "      <td>83.2</td>\n",
              "      <td>0.01</td>\n",
              "    </tr>\n",
              "    <tr>\n",
              "      <th>1389</th>\n",
              "      <td>42427</td>\n",
              "      <td>0.875000</td>\n",
              "      <td>51.8</td>\n",
              "      <td>43.5</td>\n",
              "      <td>30.4</td>\n",
              "      <td>19.0</td>\n",
              "      <td>263</td>\n",
              "      <td>39.7</td>\n",
              "      <td>286</td>\n",
              "      <td>835.38</td>\n",
              "      <td>0.0</td>\n",
              "      <td>0.00</td>\n",
              "    </tr>\n",
              "    <tr>\n",
              "      <th>4027</th>\n",
              "      <td>42537</td>\n",
              "      <td>0.791667</td>\n",
              "      <td>84.1</td>\n",
              "      <td>29.6</td>\n",
              "      <td>49.0</td>\n",
              "      <td>2.4</td>\n",
              "      <td>269</td>\n",
              "      <td>4.4</td>\n",
              "      <td>271</td>\n",
              "      <td>839.29</td>\n",
              "      <td>118.5</td>\n",
              "      <td>0.00</td>\n",
              "    </tr>\n",
              "    <tr>\n",
              "      <th>3170</th>\n",
              "      <td>42502</td>\n",
              "      <td>0.083333</td>\n",
              "      <td>35.7</td>\n",
              "      <td>80.5</td>\n",
              "      <td>30.3</td>\n",
              "      <td>2.1</td>\n",
              "      <td>296</td>\n",
              "      <td>3.6</td>\n",
              "      <td>287</td>\n",
              "      <td>849.24</td>\n",
              "      <td>0.0</td>\n",
              "      <td>0.00</td>\n",
              "    </tr>\n",
              "    <tr>\n",
              "      <th>493</th>\n",
              "      <td>42390</td>\n",
              "      <td>0.541667</td>\n",
              "      <td>40.8</td>\n",
              "      <td>29.4</td>\n",
              "      <td>11.2</td>\n",
              "      <td>15.6</td>\n",
              "      <td>353</td>\n",
              "      <td>24.7</td>\n",
              "      <td>346</td>\n",
              "      <td>848.14</td>\n",
              "      <td>506.2</td>\n",
              "      <td>0.00</td>\n",
              "    </tr>\n",
              "    <tr>\n",
              "      <th>670</th>\n",
              "      <td>42397</td>\n",
              "      <td>0.916667</td>\n",
              "      <td>34.2</td>\n",
              "      <td>59.9</td>\n",
              "      <td>21.8</td>\n",
              "      <td>3.2</td>\n",
              "      <td>237</td>\n",
              "      <td>8.2</td>\n",
              "      <td>319</td>\n",
              "      <td>837.47</td>\n",
              "      <td>0.1</td>\n",
              "      <td>0.00</td>\n",
              "    </tr>\n",
              "    <tr>\n",
              "      <th>3234</th>\n",
              "      <td>42504</td>\n",
              "      <td>0.750000</td>\n",
              "      <td>44.1</td>\n",
              "      <td>71.0</td>\n",
              "      <td>35.3</td>\n",
              "      <td>4.0</td>\n",
              "      <td>42</td>\n",
              "      <td>8.9</td>\n",
              "      <td>30</td>\n",
              "      <td>845.64</td>\n",
              "      <td>38.3</td>\n",
              "      <td>0.00</td>\n",
              "    </tr>\n",
              "    <tr>\n",
              "      <th>7406</th>\n",
              "      <td>42678</td>\n",
              "      <td>0.583333</td>\n",
              "      <td>65.5</td>\n",
              "      <td>17.9</td>\n",
              "      <td>20.8</td>\n",
              "      <td>5.1</td>\n",
              "      <td>131</td>\n",
              "      <td>12.5</td>\n",
              "      <td>139</td>\n",
              "      <td>849.76</td>\n",
              "      <td>460.1</td>\n",
              "      <td>0.00</td>\n",
              "    </tr>\n",
              "    <tr>\n",
              "      <th>5157</th>\n",
              "      <td>42584</td>\n",
              "      <td>0.875000</td>\n",
              "      <td>70.2</td>\n",
              "      <td>52.6</td>\n",
              "      <td>52.1</td>\n",
              "      <td>7.6</td>\n",
              "      <td>137</td>\n",
              "      <td>16.6</td>\n",
              "      <td>130</td>\n",
              "      <td>844.37</td>\n",
              "      <td>0.0</td>\n",
              "      <td>0.00</td>\n",
              "    </tr>\n",
              "    <tr>\n",
              "      <th>3818</th>\n",
              "      <td>42529</td>\n",
              "      <td>0.083333</td>\n",
              "      <td>60.5</td>\n",
              "      <td>47.8</td>\n",
              "      <td>40.6</td>\n",
              "      <td>4.5</td>\n",
              "      <td>350</td>\n",
              "      <td>10.7</td>\n",
              "      <td>329</td>\n",
              "      <td>839.91</td>\n",
              "      <td>0.0</td>\n",
              "      <td>0.00</td>\n",
              "    </tr>\n",
              "    <tr>\n",
              "      <th>3295</th>\n",
              "      <td>42507</td>\n",
              "      <td>0.291667</td>\n",
              "      <td>37.8</td>\n",
              "      <td>86.0</td>\n",
              "      <td>34.0</td>\n",
              "      <td>2.7</td>\n",
              "      <td>328</td>\n",
              "      <td>4.3</td>\n",
              "      <td>320</td>\n",
              "      <td>849.17</td>\n",
              "      <td>32.8</td>\n",
              "      <td>0.01</td>\n",
              "    </tr>\n",
              "  </tbody>\n",
              "</table>\n",
              "</div>"
            ],
            "text/plain": [
              "        day      hour  temp_F    RH  dewtemp_F  wind_mph  wind_dir  windgust  \\\n",
              "2819  42487  0.458333    46.3  49.6       28.4       9.6       198      17.7   \n",
              "6415  42637  0.291667    42.3  75.5       35.1       3.8       146      12.0   \n",
              "653   42397  0.208333    28.0  63.5       17.2       5.0       202       9.2   \n",
              "3319  42508  0.291667    45.3  71.0       36.5       2.0        72       4.3   \n",
              "782   42402  0.583333    22.9  62.2       11.9       7.0       322      10.3   \n",
              "1389  42427  0.875000    51.8  43.5       30.4      19.0       263      39.7   \n",
              "4027  42537  0.791667    84.1  29.6       49.0       2.4       269       4.4   \n",
              "3170  42502  0.083333    35.7  80.5       30.3       2.1       296       3.6   \n",
              "493   42390  0.541667    40.8  29.4       11.2      15.6       353      24.7   \n",
              "670   42397  0.916667    34.2  59.9       21.8       3.2       237       8.2   \n",
              "3234  42504  0.750000    44.1  71.0       35.3       4.0        42       8.9   \n",
              "7406  42678  0.583333    65.5  17.9       20.8       5.1       131      12.5   \n",
              "5157  42584  0.875000    70.2  52.6       52.1       7.6       137      16.6   \n",
              "3818  42529  0.083333    60.5  47.8       40.6       4.5       350      10.7   \n",
              "3295  42507  0.291667    37.8  86.0       34.0       2.7       328       4.3   \n",
              "\n",
              "      windgust_dir  pres_Hg  SOLIN_Wm2  Prec_inches  \n",
              "2819           162   834.44      511.5         0.00  \n",
              "6415            78   840.22       85.0         0.00  \n",
              "653            249   844.63        0.0         0.00  \n",
              "3319            92   846.20      298.4         0.00  \n",
              "782            319   836.41       83.2         0.01  \n",
              "1389           286   835.38        0.0         0.00  \n",
              "4027           271   839.29      118.5         0.00  \n",
              "3170           287   849.24        0.0         0.00  \n",
              "493            346   848.14      506.2         0.00  \n",
              "670            319   837.47        0.1         0.00  \n",
              "3234            30   845.64       38.3         0.00  \n",
              "7406           139   849.76      460.1         0.00  \n",
              "5157           130   844.37        0.0         0.00  \n",
              "3818           329   839.91        0.0         0.00  \n",
              "3295           320   849.17       32.8         0.01  "
            ]
          },
          "execution_count": 3,
          "metadata": {},
          "output_type": "execute_result"
        }
      ],
      "source": [
        "#df = pd.read_csv(\"/content/drive/MyDrive/ATOC5860/ATOC5860_Spring2023_share/applicationlab6/christman_2016.csv\")\n",
        "df = pd.read_csv('christman_2016.csv')\n",
        "\n",
        "df.sample(15) # randomly select & display 15 samples from the dataframe"
      ]
    },
    {
      "cell_type": "markdown",
      "metadata": {
        "id": "9jQF7I_gIV43"
      },
      "source": [
        "---------------------------------------------"
      ]
    },
    {
      "cell_type": "markdown",
      "metadata": {
        "id": "11LCNI1sIV43"
      },
      "source": [
        "# Part 2. Supervised learning"
      ]
    },
    {
      "cell_type": "markdown",
      "metadata": {
        "id": "jNyKMdDQIV43"
      },
      "source": [
        "#### We will be using supervised learning methods to perform the following two tasks:\n",
        "1. Predict the likelihood of rainfall given certain atmospheric conditions\n",
        "    1. Prepping the data\n",
        "    2. Building and training models\n",
        "        1. Logistic regression\n",
        "        2. Random Forest\n",
        "        4. Neural Network\n",
        "2. Determine which variable (\"feature\") is the best predictor of rainfall, i.e., \"feature importance\""
      ]
    },
    {
      "cell_type": "markdown",
      "metadata": {
        "id": "NmJXZApTIV43"
      },
      "source": [
        "---------------------------------------------"
      ]
    },
    {
      "cell_type": "markdown",
      "metadata": {
        "id": "SFCHzUhqIV44"
      },
      "source": [
        "# 2.1. Building a model to predict rainfall likelihood"
      ]
    },
    {
      "cell_type": "markdown",
      "metadata": {
        "id": "JT7hU5B9IV44"
      },
      "source": [
        "Let's say you want to determine which features or atmospheric variables are the best predictors of rainfall in Christman, CO. <br><br>\n",
        "Often, one simply regresses some metric of precipitation onto various atmospheric variables, and assume that whatever returns the highest regression coefficient is the best predictor. <br><br>\n",
        "While linear regression presents a fine first guess, it poses a few problems. Linear regression assumes atmospheric variables are linearly related to precipitation, AND that atmospheric variables are not collinear (both of which are false assumptions). <br><br>\n",
        "While a linear relationship between predictor & predictand is a good first guess, why limit yourself to linearity when you can just as easily relax that assumption?<br><br>\n",
        "This is where Machine Learning can come in handy. The rest of this notebook will step through the following Machine Learning model pipeline:<br><br>"
      ]
    },
    {
      "cell_type": "markdown",
      "metadata": {
        "id": "kj-nAtVFIV44"
      },
      "source": [
        "![model_pipeline](https://drive.google.com/uc?export=view&id=1ZvJXnqUz89UjkbSjUK18QGM0ctQP3b9o)"
      ]
    },
    {
      "cell_type": "markdown",
      "metadata": {
        "id": "SpIEfCviIV44"
      },
      "source": [
        "---------------------------------------------"
      ]
    },
    {
      "cell_type": "markdown",
      "metadata": {
        "id": "Emufbpt-IV45"
      },
      "source": [
        "# 2.1.B. Data Preparation"
      ]
    },
    {
      "cell_type": "markdown",
      "metadata": {
        "id": "xiJ3PZWgIV45"
      },
      "source": [
        "Data preparation is a huge part of building Machine Learning model \"pipelines\"."
      ]
    },
    {
      "cell_type": "markdown",
      "metadata": {
        "id": "LOuyAJf4IV45"
      },
      "source": [
        "There are few steps involved when thinking about building & training a Machine Learning model. Remember, models are \"stupid\", and there are a few statistical \"gotcha's\" that may result in your model being biased, inaccurate, or not suitable for the problem at hand. The order of addressing these issues in your data is important (we will address the importance of this order in question 1 at the end)!\n",
        "<br>\n",
        "1. __What exactly are we trying to predict? A value, an outcome, a category? Define your predictors and predictand.__ This requires revisiting your hypothesis or overarching question. In our case, our predictand is the likelihood of precipitation. We will build a Machine Learning model (actually, a few models) that predicts the likelihood that it's currently precipitating at Christman, CO, given current atmospheric conditions. \n",
        "<br><br>\n",
        "2. __Do you have any missing data? If so, how will you handle them? Keep in mind, decreasing the number of input observations may bias your model.__ In our case, we have no missing data.\n",
        "<br><br>\n",
        "3. __Do you have any categorical or non-numeric variables or features? If so, you must figure out how to encode them into numbers.__ Luckily, in the geosciences, we rarely run into this problem.\n",
        "<br><br>\n",
        "4. __How will we validate our model?__ Typically, people split their existing data into training data and testing data, or perform \"__cross-validation__\" or a \"__test-train split__\". That is, we will \"hold out\" some data and call it our \"testing data\", while using the rest of the data to train our model (i.e., \"training data\"). Once our model is trained, we will evaluate its performance with the holdout testing data. *Note:* This could be problematic if there is limited data. \n",
        "<br><br>\n",
        "5. __Do your features have the same variance?__ Just like for K-means clustering above, this can be an important step so that your model doesn't overemphasize one variable with large variance too much. This step is called \"__feature scaling__\". Features of the same size also speed up the Gradient Descent algorithm. For some algorithms, like Linear Regression and Random Forest, feature scaling doesn't matter. But for algorithms like Neural Networks, this becomes very important.\n",
        "<br><br>\n",
        "6. __If classification is the goal, are there the same number of observations for each feature and outcome? If not, how will you rebalance?__ Luckily, we have the same number of observations (8784) for each feature, but a lack of precipitation is way more common than hours with precipitation. We will oversample the observations associated with precip so that the two outcomes (or \"classes\") are equal, though we are making a big assumption: that our subsample is a good representation of each feature distribution. Otherwise, we are building a model that represents unrealistic distributions and thus their respective relationships. *Note: It's important that feature scaling or normalization is performed before any rebalancing so that the qualitative statistics (mean, stddev, etc) remain the same.*\n",
        "<br><br>\n",
        "7. __What are the appropriate metrics for assessing your model? Consider the bias-variance trade-off, and whether having false positives or false negatives is more impactful.__ In our case, predicting no rain when there is rain (false negative) is probably more frustrating and potentially more impactful than the other way around (a false positive). The same can be said for regression models: but metrics computing the model & prediction error are more important (RMSE, R$^2$, MAE, percent error, etc.)"
      ]
    },
    {
      "cell_type": "markdown",
      "metadata": {
        "id": "WaeVA5NoIV45"
      },
      "source": [
        "<br>"
      ]
    },
    {
      "cell_type": "markdown",
      "metadata": {
        "id": "oOq9yuhVIV45"
      },
      "source": [
        "### Q1. What exactly are you trying to predict?\n",
        "First, split data into predictor & predictands. \n",
        "I'm going to create (or \"engineer\") a new feature that indicates whether precipitation occurred. Clearly, this step only needs to be performed once."
      ]
    },
    {
      "cell_type": "code",
      "execution_count": 4,
      "metadata": {
        "colab": {
          "base_uri": "https://localhost:8080/"
        },
        "id": "b9dPGFLTIV46",
        "outputId": "a7e913c1-dff2-42df-bf23-bc8fab0b78a3"
      },
      "outputs": [
        {
          "data": {
            "text/plain": [
              "Index(['day', 'hour', 'temp_F', 'RH', 'dewtemp_F', 'wind_mph', 'wind_dir',\n",
              "       'windgust', 'windgust_dir', 'pres_Hg', 'SOLIN_Wm2', 'Prec_inches'],\n",
              "      dtype='object')"
            ]
          },
          "execution_count": 4,
          "metadata": {},
          "output_type": "execute_result"
        }
      ],
      "source": [
        "df.columns # what is the variable called that indicates precipitation amount?"
      ]
    },
    {
      "cell_type": "code",
      "execution_count": 5,
      "metadata": {
        "colab": {
          "base_uri": "https://localhost:8080/",
          "height": 520
        },
        "id": "3qjxbAtiIV46",
        "outputId": "0e2b3dbe-5a95-4e70-9144-65f8c7467411"
      },
      "outputs": [
        {
          "data": {
            "text/html": [
              "<div>\n",
              "<style scoped>\n",
              "    .dataframe tbody tr th:only-of-type {\n",
              "        vertical-align: middle;\n",
              "    }\n",
              "\n",
              "    .dataframe tbody tr th {\n",
              "        vertical-align: top;\n",
              "    }\n",
              "\n",
              "    .dataframe thead th {\n",
              "        text-align: right;\n",
              "    }\n",
              "</style>\n",
              "<table border=\"1\" class=\"dataframe\">\n",
              "  <thead>\n",
              "    <tr style=\"text-align: right;\">\n",
              "      <th></th>\n",
              "      <th>day</th>\n",
              "      <th>hour</th>\n",
              "      <th>temp_F</th>\n",
              "      <th>RH</th>\n",
              "      <th>dewtemp_F</th>\n",
              "      <th>wind_mph</th>\n",
              "      <th>wind_dir</th>\n",
              "      <th>windgust</th>\n",
              "      <th>windgust_dir</th>\n",
              "      <th>pres_Hg</th>\n",
              "      <th>SOLIN_Wm2</th>\n",
              "      <th>Prec_inches</th>\n",
              "      <th>prec_occur</th>\n",
              "    </tr>\n",
              "  </thead>\n",
              "  <tbody>\n",
              "    <tr>\n",
              "      <th>4390</th>\n",
              "      <td>42552</td>\n",
              "      <td>0.916667</td>\n",
              "      <td>61.8</td>\n",
              "      <td>82.7</td>\n",
              "      <td>56.5</td>\n",
              "      <td>1.7</td>\n",
              "      <td>65</td>\n",
              "      <td>4.8</td>\n",
              "      <td>84</td>\n",
              "      <td>842.44</td>\n",
              "      <td>1.8</td>\n",
              "      <td>0.00</td>\n",
              "      <td>0</td>\n",
              "    </tr>\n",
              "    <tr>\n",
              "      <th>4094</th>\n",
              "      <td>42540</td>\n",
              "      <td>0.583333</td>\n",
              "      <td>91.8</td>\n",
              "      <td>11.5</td>\n",
              "      <td>31.0</td>\n",
              "      <td>2.0</td>\n",
              "      <td>52</td>\n",
              "      <td>4.6</td>\n",
              "      <td>67</td>\n",
              "      <td>845.79</td>\n",
              "      <td>403.7</td>\n",
              "      <td>0.00</td>\n",
              "      <td>0</td>\n",
              "    </tr>\n",
              "    <tr>\n",
              "      <th>2244</th>\n",
              "      <td>42463</td>\n",
              "      <td>0.500000</td>\n",
              "      <td>64.3</td>\n",
              "      <td>18.9</td>\n",
              "      <td>21.0</td>\n",
              "      <td>4.6</td>\n",
              "      <td>159</td>\n",
              "      <td>11.3</td>\n",
              "      <td>209</td>\n",
              "      <td>841.91</td>\n",
              "      <td>848.0</td>\n",
              "      <td>0.00</td>\n",
              "      <td>0</td>\n",
              "    </tr>\n",
              "    <tr>\n",
              "      <th>4892</th>\n",
              "      <td>42573</td>\n",
              "      <td>0.833333</td>\n",
              "      <td>74.7</td>\n",
              "      <td>43.7</td>\n",
              "      <td>51.2</td>\n",
              "      <td>10.9</td>\n",
              "      <td>237</td>\n",
              "      <td>40.2</td>\n",
              "      <td>309</td>\n",
              "      <td>842.41</td>\n",
              "      <td>0.9</td>\n",
              "      <td>0.12</td>\n",
              "      <td>1</td>\n",
              "    </tr>\n",
              "    <tr>\n",
              "      <th>2963</th>\n",
              "      <td>42493</td>\n",
              "      <td>0.458333</td>\n",
              "      <td>61.0</td>\n",
              "      <td>29.4</td>\n",
              "      <td>28.9</td>\n",
              "      <td>15.8</td>\n",
              "      <td>10</td>\n",
              "      <td>24.1</td>\n",
              "      <td>340</td>\n",
              "      <td>846.98</td>\n",
              "      <td>877.0</td>\n",
              "      <td>0.00</td>\n",
              "      <td>0</td>\n",
              "    </tr>\n",
              "    <tr>\n",
              "      <th>856</th>\n",
              "      <td>42405</td>\n",
              "      <td>0.666667</td>\n",
              "      <td>34.2</td>\n",
              "      <td>38.1</td>\n",
              "      <td>11.3</td>\n",
              "      <td>9.9</td>\n",
              "      <td>149</td>\n",
              "      <td>14.9</td>\n",
              "      <td>146</td>\n",
              "      <td>847.45</td>\n",
              "      <td>298.7</td>\n",
              "      <td>0.00</td>\n",
              "      <td>0</td>\n",
              "    </tr>\n",
              "    <tr>\n",
              "      <th>6692</th>\n",
              "      <td>42648</td>\n",
              "      <td>0.833333</td>\n",
              "      <td>49.8</td>\n",
              "      <td>39.6</td>\n",
              "      <td>26.2</td>\n",
              "      <td>4.6</td>\n",
              "      <td>100</td>\n",
              "      <td>10.2</td>\n",
              "      <td>341</td>\n",
              "      <td>838.72</td>\n",
              "      <td>0.0</td>\n",
              "      <td>0.00</td>\n",
              "      <td>0</td>\n",
              "    </tr>\n",
              "    <tr>\n",
              "      <th>6642</th>\n",
              "      <td>42646</td>\n",
              "      <td>0.750000</td>\n",
              "      <td>62.1</td>\n",
              "      <td>17.6</td>\n",
              "      <td>17.5</td>\n",
              "      <td>27.2</td>\n",
              "      <td>267</td>\n",
              "      <td>49.4</td>\n",
              "      <td>246</td>\n",
              "      <td>827.39</td>\n",
              "      <td>17.4</td>\n",
              "      <td>0.00</td>\n",
              "      <td>0</td>\n",
              "    </tr>\n",
              "    <tr>\n",
              "      <th>2931</th>\n",
              "      <td>42492</td>\n",
              "      <td>0.125000</td>\n",
              "      <td>28.2</td>\n",
              "      <td>66.1</td>\n",
              "      <td>18.4</td>\n",
              "      <td>5.7</td>\n",
              "      <td>327</td>\n",
              "      <td>9.3</td>\n",
              "      <td>327</td>\n",
              "      <td>847.76</td>\n",
              "      <td>0.1</td>\n",
              "      <td>0.00</td>\n",
              "      <td>0</td>\n",
              "    </tr>\n",
              "    <tr>\n",
              "      <th>8669</th>\n",
              "      <td>42731</td>\n",
              "      <td>0.208333</td>\n",
              "      <td>12.6</td>\n",
              "      <td>75.0</td>\n",
              "      <td>6.1</td>\n",
              "      <td>3.9</td>\n",
              "      <td>228</td>\n",
              "      <td>7.4</td>\n",
              "      <td>209</td>\n",
              "      <td>844.53</td>\n",
              "      <td>0.0</td>\n",
              "      <td>0.00</td>\n",
              "      <td>0</td>\n",
              "    </tr>\n",
              "    <tr>\n",
              "      <th>8685</th>\n",
              "      <td>42731</td>\n",
              "      <td>0.875000</td>\n",
              "      <td>28.7</td>\n",
              "      <td>60.0</td>\n",
              "      <td>16.6</td>\n",
              "      <td>2.9</td>\n",
              "      <td>201</td>\n",
              "      <td>7.4</td>\n",
              "      <td>174</td>\n",
              "      <td>838.21</td>\n",
              "      <td>0.0</td>\n",
              "      <td>0.00</td>\n",
              "      <td>0</td>\n",
              "    </tr>\n",
              "    <tr>\n",
              "      <th>6962</th>\n",
              "      <td>42660</td>\n",
              "      <td>0.083333</td>\n",
              "      <td>44.3</td>\n",
              "      <td>63.3</td>\n",
              "      <td>32.6</td>\n",
              "      <td>5.0</td>\n",
              "      <td>300</td>\n",
              "      <td>12.9</td>\n",
              "      <td>71</td>\n",
              "      <td>830.79</td>\n",
              "      <td>0.0</td>\n",
              "      <td>0.00</td>\n",
              "      <td>0</td>\n",
              "    </tr>\n",
              "    <tr>\n",
              "      <th>1797</th>\n",
              "      <td>42444</td>\n",
              "      <td>0.875000</td>\n",
              "      <td>34.5</td>\n",
              "      <td>38.0</td>\n",
              "      <td>11.5</td>\n",
              "      <td>15.5</td>\n",
              "      <td>304</td>\n",
              "      <td>28.0</td>\n",
              "      <td>307</td>\n",
              "      <td>840.00</td>\n",
              "      <td>0.0</td>\n",
              "      <td>0.00</td>\n",
              "      <td>0</td>\n",
              "    </tr>\n",
              "    <tr>\n",
              "      <th>2211</th>\n",
              "      <td>42462</td>\n",
              "      <td>0.125000</td>\n",
              "      <td>46.1</td>\n",
              "      <td>30.8</td>\n",
              "      <td>17.0</td>\n",
              "      <td>18.0</td>\n",
              "      <td>279</td>\n",
              "      <td>27.0</td>\n",
              "      <td>274</td>\n",
              "      <td>846.15</td>\n",
              "      <td>0.0</td>\n",
              "      <td>0.00</td>\n",
              "      <td>0</td>\n",
              "    </tr>\n",
              "    <tr>\n",
              "      <th>1639</th>\n",
              "      <td>42438</td>\n",
              "      <td>0.291667</td>\n",
              "      <td>25.2</td>\n",
              "      <td>68.2</td>\n",
              "      <td>16.2</td>\n",
              "      <td>1.8</td>\n",
              "      <td>353</td>\n",
              "      <td>5.0</td>\n",
              "      <td>338</td>\n",
              "      <td>838.27</td>\n",
              "      <td>28.3</td>\n",
              "      <td>0.00</td>\n",
              "      <td>0</td>\n",
              "    </tr>\n",
              "  </tbody>\n",
              "</table>\n",
              "</div>"
            ],
            "text/plain": [
              "        day      hour  temp_F    RH  dewtemp_F  wind_mph  wind_dir  windgust  \\\n",
              "4390  42552  0.916667    61.8  82.7       56.5       1.7        65       4.8   \n",
              "4094  42540  0.583333    91.8  11.5       31.0       2.0        52       4.6   \n",
              "2244  42463  0.500000    64.3  18.9       21.0       4.6       159      11.3   \n",
              "4892  42573  0.833333    74.7  43.7       51.2      10.9       237      40.2   \n",
              "2963  42493  0.458333    61.0  29.4       28.9      15.8        10      24.1   \n",
              "856   42405  0.666667    34.2  38.1       11.3       9.9       149      14.9   \n",
              "6692  42648  0.833333    49.8  39.6       26.2       4.6       100      10.2   \n",
              "6642  42646  0.750000    62.1  17.6       17.5      27.2       267      49.4   \n",
              "2931  42492  0.125000    28.2  66.1       18.4       5.7       327       9.3   \n",
              "8669  42731  0.208333    12.6  75.0        6.1       3.9       228       7.4   \n",
              "8685  42731  0.875000    28.7  60.0       16.6       2.9       201       7.4   \n",
              "6962  42660  0.083333    44.3  63.3       32.6       5.0       300      12.9   \n",
              "1797  42444  0.875000    34.5  38.0       11.5      15.5       304      28.0   \n",
              "2211  42462  0.125000    46.1  30.8       17.0      18.0       279      27.0   \n",
              "1639  42438  0.291667    25.2  68.2       16.2       1.8       353       5.0   \n",
              "\n",
              "      windgust_dir  pres_Hg  SOLIN_Wm2  Prec_inches  prec_occur  \n",
              "4390            84   842.44        1.8         0.00           0  \n",
              "4094            67   845.79      403.7         0.00           0  \n",
              "2244           209   841.91      848.0         0.00           0  \n",
              "4892           309   842.41        0.9         0.12           1  \n",
              "2963           340   846.98      877.0         0.00           0  \n",
              "856            146   847.45      298.7         0.00           0  \n",
              "6692           341   838.72        0.0         0.00           0  \n",
              "6642           246   827.39       17.4         0.00           0  \n",
              "2931           327   847.76        0.1         0.00           0  \n",
              "8669           209   844.53        0.0         0.00           0  \n",
              "8685           174   838.21        0.0         0.00           0  \n",
              "6962            71   830.79        0.0         0.00           0  \n",
              "1797           307   840.00        0.0         0.00           0  \n",
              "2211           274   846.15        0.0         0.00           0  \n",
              "1639           338   838.27       28.3         0.00           0  "
            ]
          },
          "execution_count": 5,
          "metadata": {},
          "output_type": "execute_result"
        }
      ],
      "source": [
        "df['prec_occur'] = np.array(df.Prec_inches!=0).astype(int)\n",
        "df.sample(15) # randomly select & display 15 samples from the dataframe"
      ]
    },
    {
      "cell_type": "markdown",
      "metadata": {
        "id": "a_LLK4ZVIV46"
      },
      "source": [
        "Then, select the data that will be predictors. "
      ]
    },
    {
      "cell_type": "code",
      "execution_count": 86,
      "metadata": {
        "colab": {
          "base_uri": "https://localhost:8080/",
          "height": 424
        },
        "id": "4t_N2kF8IV46",
        "outputId": "da945137-e1df-48ec-9171-440f5cf197f3"
      },
      "outputs": [
        {
          "data": {
            "text/html": [
              "<div>\n",
              "<style scoped>\n",
              "    .dataframe tbody tr th:only-of-type {\n",
              "        vertical-align: middle;\n",
              "    }\n",
              "\n",
              "    .dataframe tbody tr th {\n",
              "        vertical-align: top;\n",
              "    }\n",
              "\n",
              "    .dataframe thead th {\n",
              "        text-align: right;\n",
              "    }\n",
              "</style>\n",
              "<table border=\"1\" class=\"dataframe\">\n",
              "  <thead>\n",
              "    <tr style=\"text-align: right;\">\n",
              "      <th></th>\n",
              "      <th>temp_F</th>\n",
              "      <th>RH</th>\n",
              "      <th>dewtemp_F</th>\n",
              "      <th>pres_Hg</th>\n",
              "      <th>SOLIN_Wm2</th>\n",
              "      <th>prec_occur</th>\n",
              "    </tr>\n",
              "  </thead>\n",
              "  <tbody>\n",
              "    <tr>\n",
              "      <th>0</th>\n",
              "      <td>7.0</td>\n",
              "      <td>72.2</td>\n",
              "      <td>-0.1</td>\n",
              "      <td>851.30</td>\n",
              "      <td>0.0</td>\n",
              "      <td>0</td>\n",
              "    </tr>\n",
              "    <tr>\n",
              "      <th>1</th>\n",
              "      <td>5.4</td>\n",
              "      <td>74.3</td>\n",
              "      <td>-1.0</td>\n",
              "      <td>850.82</td>\n",
              "      <td>0.0</td>\n",
              "      <td>0</td>\n",
              "    </tr>\n",
              "    <tr>\n",
              "      <th>2</th>\n",
              "      <td>6.4</td>\n",
              "      <td>73.8</td>\n",
              "      <td>-0.2</td>\n",
              "      <td>849.83</td>\n",
              "      <td>0.0</td>\n",
              "      <td>0</td>\n",
              "    </tr>\n",
              "    <tr>\n",
              "      <th>3</th>\n",
              "      <td>3.0</td>\n",
              "      <td>73.5</td>\n",
              "      <td>-3.6</td>\n",
              "      <td>850.69</td>\n",
              "      <td>0.0</td>\n",
              "      <td>0</td>\n",
              "    </tr>\n",
              "    <tr>\n",
              "      <th>4</th>\n",
              "      <td>3.7</td>\n",
              "      <td>76.9</td>\n",
              "      <td>-1.9</td>\n",
              "      <td>848.24</td>\n",
              "      <td>0.0</td>\n",
              "      <td>0</td>\n",
              "    </tr>\n",
              "    <tr>\n",
              "      <th>...</th>\n",
              "      <td>...</td>\n",
              "      <td>...</td>\n",
              "      <td>...</td>\n",
              "      <td>...</td>\n",
              "      <td>...</td>\n",
              "      <td>...</td>\n",
              "    </tr>\n",
              "    <tr>\n",
              "      <th>8779</th>\n",
              "      <td>22.3</td>\n",
              "      <td>74.3</td>\n",
              "      <td>15.4</td>\n",
              "      <td>833.32</td>\n",
              "      <td>0.0</td>\n",
              "      <td>0</td>\n",
              "    </tr>\n",
              "    <tr>\n",
              "      <th>8780</th>\n",
              "      <td>20.3</td>\n",
              "      <td>80.4</td>\n",
              "      <td>15.3</td>\n",
              "      <td>833.45</td>\n",
              "      <td>0.1</td>\n",
              "      <td>0</td>\n",
              "    </tr>\n",
              "    <tr>\n",
              "      <th>8781</th>\n",
              "      <td>19.9</td>\n",
              "      <td>81.1</td>\n",
              "      <td>15.1</td>\n",
              "      <td>833.01</td>\n",
              "      <td>0.1</td>\n",
              "      <td>0</td>\n",
              "    </tr>\n",
              "    <tr>\n",
              "      <th>8782</th>\n",
              "      <td>17.8</td>\n",
              "      <td>82.8</td>\n",
              "      <td>13.5</td>\n",
              "      <td>832.78</td>\n",
              "      <td>0.1</td>\n",
              "      <td>0</td>\n",
              "    </tr>\n",
              "    <tr>\n",
              "      <th>8783</th>\n",
              "      <td>16.3</td>\n",
              "      <td>84.1</td>\n",
              "      <td>12.4</td>\n",
              "      <td>832.62</td>\n",
              "      <td>0.0</td>\n",
              "      <td>0</td>\n",
              "    </tr>\n",
              "  </tbody>\n",
              "</table>\n",
              "<p>8784 rows × 6 columns</p>\n",
              "</div>"
            ],
            "text/plain": [
              "      temp_F    RH  dewtemp_F  pres_Hg  SOLIN_Wm2  prec_occur\n",
              "0        7.0  72.2       -0.1   851.30        0.0           0\n",
              "1        5.4  74.3       -1.0   850.82        0.0           0\n",
              "2        6.4  73.8       -0.2   849.83        0.0           0\n",
              "3        3.0  73.5       -3.6   850.69        0.0           0\n",
              "4        3.7  76.9       -1.9   848.24        0.0           0\n",
              "...      ...   ...        ...      ...        ...         ...\n",
              "8779    22.3  74.3       15.4   833.32        0.0           0\n",
              "8780    20.3  80.4       15.3   833.45        0.1           0\n",
              "8781    19.9  81.1       15.1   833.01        0.1           0\n",
              "8782    17.8  82.8       13.5   832.78        0.1           0\n",
              "8783    16.3  84.1       12.4   832.62        0.0           0\n",
              "\n",
              "[8784 rows x 6 columns]"
            ]
          },
          "execution_count": 86,
          "metadata": {},
          "output_type": "execute_result"
        }
      ],
      "source": [
        "predictors = df.copy(deep=True) \n",
        "# deep = True so that changes to predictors won't be made to original df.\n",
        "\n",
        "# these shouldn't go into predicting whether or not there is rain.\n",
        "predictors = df.drop(['day','hour','Prec_inches','wind_mph','wind_dir','windgust','windgust_dir'],axis=1) \n",
        "predictors"
      ]
    },
    {
      "cell_type": "markdown",
      "metadata": {
        "id": "aCkngJDHIV46"
      },
      "source": [
        "Great, that worked. Now I will assign everything but \"prec\" to be the predictor array \"x\", and prec will be the predictand vector \"y\"."
      ]
    },
    {
      "cell_type": "code",
      "execution_count": 87,
      "metadata": {
        "colab": {
          "base_uri": "https://localhost:8080/",
          "height": 424
        },
        "id": "QwfQueR_IV46",
        "outputId": "eaf7792c-ec64-4b07-a0b6-bce7234dd84a"
      },
      "outputs": [
        {
          "data": {
            "text/html": [
              "<div>\n",
              "<style scoped>\n",
              "    .dataframe tbody tr th:only-of-type {\n",
              "        vertical-align: middle;\n",
              "    }\n",
              "\n",
              "    .dataframe tbody tr th {\n",
              "        vertical-align: top;\n",
              "    }\n",
              "\n",
              "    .dataframe thead th {\n",
              "        text-align: right;\n",
              "    }\n",
              "</style>\n",
              "<table border=\"1\" class=\"dataframe\">\n",
              "  <thead>\n",
              "    <tr style=\"text-align: right;\">\n",
              "      <th></th>\n",
              "      <th>temp_F</th>\n",
              "      <th>RH</th>\n",
              "      <th>dewtemp_F</th>\n",
              "      <th>pres_Hg</th>\n",
              "      <th>SOLIN_Wm2</th>\n",
              "    </tr>\n",
              "  </thead>\n",
              "  <tbody>\n",
              "    <tr>\n",
              "      <th>0</th>\n",
              "      <td>7.0</td>\n",
              "      <td>72.2</td>\n",
              "      <td>-0.1</td>\n",
              "      <td>851.30</td>\n",
              "      <td>0.0</td>\n",
              "    </tr>\n",
              "    <tr>\n",
              "      <th>1</th>\n",
              "      <td>5.4</td>\n",
              "      <td>74.3</td>\n",
              "      <td>-1.0</td>\n",
              "      <td>850.82</td>\n",
              "      <td>0.0</td>\n",
              "    </tr>\n",
              "    <tr>\n",
              "      <th>2</th>\n",
              "      <td>6.4</td>\n",
              "      <td>73.8</td>\n",
              "      <td>-0.2</td>\n",
              "      <td>849.83</td>\n",
              "      <td>0.0</td>\n",
              "    </tr>\n",
              "    <tr>\n",
              "      <th>3</th>\n",
              "      <td>3.0</td>\n",
              "      <td>73.5</td>\n",
              "      <td>-3.6</td>\n",
              "      <td>850.69</td>\n",
              "      <td>0.0</td>\n",
              "    </tr>\n",
              "    <tr>\n",
              "      <th>4</th>\n",
              "      <td>3.7</td>\n",
              "      <td>76.9</td>\n",
              "      <td>-1.9</td>\n",
              "      <td>848.24</td>\n",
              "      <td>0.0</td>\n",
              "    </tr>\n",
              "    <tr>\n",
              "      <th>...</th>\n",
              "      <td>...</td>\n",
              "      <td>...</td>\n",
              "      <td>...</td>\n",
              "      <td>...</td>\n",
              "      <td>...</td>\n",
              "    </tr>\n",
              "    <tr>\n",
              "      <th>8779</th>\n",
              "      <td>22.3</td>\n",
              "      <td>74.3</td>\n",
              "      <td>15.4</td>\n",
              "      <td>833.32</td>\n",
              "      <td>0.0</td>\n",
              "    </tr>\n",
              "    <tr>\n",
              "      <th>8780</th>\n",
              "      <td>20.3</td>\n",
              "      <td>80.4</td>\n",
              "      <td>15.3</td>\n",
              "      <td>833.45</td>\n",
              "      <td>0.1</td>\n",
              "    </tr>\n",
              "    <tr>\n",
              "      <th>8781</th>\n",
              "      <td>19.9</td>\n",
              "      <td>81.1</td>\n",
              "      <td>15.1</td>\n",
              "      <td>833.01</td>\n",
              "      <td>0.1</td>\n",
              "    </tr>\n",
              "    <tr>\n",
              "      <th>8782</th>\n",
              "      <td>17.8</td>\n",
              "      <td>82.8</td>\n",
              "      <td>13.5</td>\n",
              "      <td>832.78</td>\n",
              "      <td>0.1</td>\n",
              "    </tr>\n",
              "    <tr>\n",
              "      <th>8783</th>\n",
              "      <td>16.3</td>\n",
              "      <td>84.1</td>\n",
              "      <td>12.4</td>\n",
              "      <td>832.62</td>\n",
              "      <td>0.0</td>\n",
              "    </tr>\n",
              "  </tbody>\n",
              "</table>\n",
              "<p>8784 rows × 5 columns</p>\n",
              "</div>"
            ],
            "text/plain": [
              "      temp_F    RH  dewtemp_F  pres_Hg  SOLIN_Wm2\n",
              "0        7.0  72.2       -0.1   851.30        0.0\n",
              "1        5.4  74.3       -1.0   850.82        0.0\n",
              "2        6.4  73.8       -0.2   849.83        0.0\n",
              "3        3.0  73.5       -3.6   850.69        0.0\n",
              "4        3.7  76.9       -1.9   848.24        0.0\n",
              "...      ...   ...        ...      ...        ...\n",
              "8779    22.3  74.3       15.4   833.32        0.0\n",
              "8780    20.3  80.4       15.3   833.45        0.1\n",
              "8781    19.9  81.1       15.1   833.01        0.1\n",
              "8782    17.8  82.8       13.5   832.78        0.1\n",
              "8783    16.3  84.1       12.4   832.62        0.0\n",
              "\n",
              "[8784 rows x 5 columns]"
            ]
          },
          "execution_count": 87,
          "metadata": {},
          "output_type": "execute_result"
        }
      ],
      "source": [
        "x = predictors.drop('prec_occur',axis=1)\n",
        "y = predictors.prec_occur\n",
        "x"
      ]
    },
    {
      "cell_type": "code",
      "execution_count": 88,
      "metadata": {
        "colab": {
          "base_uri": "https://localhost:8080/"
        },
        "id": "lCuzPWb2NqCR",
        "outputId": "b1f3e9b5-0135-4ed4-ff4c-788ad290ad59"
      },
      "outputs": [
        {
          "data": {
            "text/plain": [
              "0       0\n",
              "1       0\n",
              "2       0\n",
              "3       0\n",
              "4       0\n",
              "       ..\n",
              "8779    0\n",
              "8780    0\n",
              "8781    0\n",
              "8782    0\n",
              "8783    0\n",
              "Name: prec_occur, Length: 8784, dtype: int64"
            ]
          },
          "execution_count": 88,
          "metadata": {},
          "output_type": "execute_result"
        }
      ],
      "source": [
        "y # should be a pandas series (type: pd.Series) - this or numpy.1DArray is usually the type required for scikit-learn.\n",
        "  # be careful if you use a pd.Series because the index becomes important! Indexing can be useful but has also caused me many headaches."
      ]
    },
    {
      "cell_type": "markdown",
      "metadata": {
        "id": "8Mml7XyMIV47"
      },
      "source": [
        "### Q2 & Q3 do not need to be addressed in our dataset."
      ]
    },
    {
      "cell_type": "markdown",
      "metadata": {
        "id": "HaA1qjHLIV47"
      },
      "source": [
        "### Q4. How will you validate your model?"
      ]
    },
    {
      "cell_type": "markdown",
      "metadata": {
        "id": "X1iW4B3wIV47"
      },
      "source": [
        "Next, perform a test-train split to ensure we can validate our trained model. <br>\n",
        "\n",
        "This step must be performed before each time the model is trained to ensure we are not baking in any bias among the models we train. That also means the following two steps must also be performed prior to training each model as well. For this reason, I wrote functions to call easily before each model training."
      ]
    },
    {
      "cell_type": "markdown",
      "metadata": {
        "id": "YJS06XrpH3Gt"
      },
      "source": [
        "*__Note__: Because we randomize our selection of data that we use to train the models, you may find slightly different model metrics, and thus, different answers than your neighbor. To circumference this and compare notes, input an integer for the variable* `random_state` *. Right now, it randomly selects one between 0 and 1000, but it can be any integer.*"
      ]
    },
    {
      "cell_type": "code",
      "execution_count": 89,
      "metadata": {
        "id": "_5-I4BfHIV47"
      },
      "outputs": [],
      "source": [
        "from sklearn.model_selection import train_test_split\n",
        "from random import randint"
      ]
    },
    {
      "cell_type": "code",
      "execution_count": 90,
      "metadata": {
        "id": "ew_mEfURIV47"
      },
      "outputs": [],
      "source": [
        "def define_holdout_data(\n",
        "    x: pd.DataFrame,\n",
        "    y: pd.Series,\n",
        "    verbose: bool, \n",
        "    random_state: int=\"\") -> tuple:\n",
        "    \"\"\"Perform a 80/20 test-train split (80% of data is training, 20% is \n",
        "    testing). Split is randomized with each call.\n",
        "    \n",
        "    :param x: a pandas dataframe containing all observations of the predictors\n",
        "    of the dataset.\n",
        "    :param y: a pandas series containing all observations of the predictands\n",
        "    in the dataset.\n",
        "    :param verbose: a boolean that is True if the user would like to print the\n",
        "    variable shapes of the resulting datasets after splitting.\n",
        "    :param random_state: (optional) an integer indicating the `random_state`\n",
        "    of the splitting of the dataset. If not provided, some integer between 0\n",
        "    and 1000 will randomly be chosen. User should provide if replicability\n",
        "    is desired.\n",
        "\n",
        "    :return: a tuple containing x & y, but split into training and testing\n",
        "    data, respectively. (x_train, x_test, y_train, y_test)\n",
        "    \n",
        "    \"\"\"\n",
        "    if not random_state:\n",
        "      random_state = randint(0,1000)\n",
        "    x_train, x_test, y_train, y_test = train_test_split(x, y, test_size=0.20,\n",
        "                                                        random_state=random_state)\n",
        "    if verbose==True:\n",
        "        print(\"Prior to scaling and rebalacing...\")\n",
        "        print(\"Shape of training predictors: \"+str(np.shape(x_train)))\n",
        "        print(\"Shape of testing predictors: \"+str(np.shape(x_test)))\n",
        "        print(\"Shape of training predictands: \"+str(np.shape(y_train)))\n",
        "        print(\"Shape of testing predictands: \"+str(np.shape(y_test)))\n",
        "        print(\" \")\n",
        "    return x_train, x_test, y_train, y_test"
      ]
    },
    {
      "cell_type": "markdown",
      "metadata": {
        "id": "9SKDoFr8IV47"
      },
      "source": [
        "### Q5. Do your features have the same variance?"
      ]
    },
    {
      "cell_type": "markdown",
      "metadata": {
        "id": "ZF143eDAIV48"
      },
      "source": [
        "Now we must normalize the features, or perform \"__Feature Scaling__\", for the same reasons why we normalized prior to running the K-Means clustering algorithm. \n",
        "  \n",
        "The difference here is that I will keep the data as a pandas dataframe rather than converting it to a numpy array beforehand. The \"fit_transform\" function outputs a numpy array, but we will convert back to a dataframe so that re-balancing the dataset is easier. \n",
        "  \n",
        "*__Note__*: If my predictand wasn't binary, then I would also want to normalize that as well."
      ]
    },
    {
      "cell_type": "code",
      "execution_count": 91,
      "metadata": {
        "id": "dr8d0j1pIV48"
      },
      "outputs": [],
      "source": [
        "from sklearn import preprocessing"
      ]
    },
    {
      "cell_type": "code",
      "execution_count": 92,
      "metadata": {
        "id": "2M6shVpbIV48"
      },
      "outputs": [],
      "source": [
        "def scale_data(x_train: pd.DataFrame, x_test: pd.DataFrame) -> tuple:\n",
        "    \"\"\"\n",
        "    Scale training data so that model reaches optimized weights much faster. \n",
        "    Scaling could mean standardizing (so that the standard deviation is 1) or \n",
        "    normalizing (the max and min are 1 and -1). Here we normalize.\n",
        "    \n",
        "    *All data that enters the model should use the same scaling used to scale \n",
        "    the training data.*\n",
        "    Thus, we also perform scaling on testing data for validation later. \n",
        "    Additionally, we return the scalar used to scale any other future input \n",
        "    data.\n",
        "\n",
        "    :param x_train: a pandas dataframe containing observations in the training\n",
        "    dataset. Should have the same columns as `x_test`\n",
        "    :param x_test: a pandas dataframe containing observations in the testing\n",
        "    dataset. Should have the same columns as `x_train`\n",
        "    :return: a tuple containing a MinMaxScaler object that will scale future \n",
        "    datasets in the same way, the scaled predictors from the training and \n",
        "    testing datasets (scaler, x_train_scaled, x_test_scaled).\n",
        "    \"\"\"\n",
        "    \n",
        "    scaler = preprocessing.MinMaxScaler() # normalize \n",
        "    x_train_scaled = pd.DataFrame(data=scaler.fit_transform(x_train),index=x_train.index,columns=x_train.columns) \n",
        "    x_test_scaled = pd.DataFrame(data=scaler.transform(x_test),index=x_test.index,columns=x_test.columns)\n",
        "    \n",
        "    return scaler, x_train_scaled, x_test_scaled"
      ]
    },
    {
      "cell_type": "markdown",
      "metadata": {
        "id": "8HKlvh1LIV48"
      },
      "source": [
        "### Q6. Are there the same number of observations for each outcome or class?"
      ]
    },
    {
      "cell_type": "markdown",
      "metadata": {
        "id": "42dQJiGmIV48"
      },
      "source": [
        "Luckily, we have the same number of observations for each feature (8784). But do we have the same number of outcomes for our predictand - i.e., the same number of hours that are precipitating as those that are non-precipitating?"
      ]
    },
    {
      "cell_type": "code",
      "execution_count": 93,
      "metadata": {
        "colab": {
          "base_uri": "https://localhost:8080/"
        },
        "id": "knGfVRuOIV48",
        "outputId": "18827cb9-2ac7-4261-be3d-c306813b193b"
      },
      "outputs": [
        {
          "data": {
            "text/plain": [
              "prec_occur\n",
              "0    8501\n",
              "1     283\n",
              "Name: count, dtype: int64"
            ]
          },
          "execution_count": 93,
          "metadata": {},
          "output_type": "execute_result"
        }
      ],
      "source": [
        "df['prec_occur'].value_counts()"
      ]
    },
    {
      "cell_type": "markdown",
      "metadata": {
        "id": "wUhQm_TpIV48"
      },
      "source": [
        "Definitely not. The outcomes we are trying to predict are extremely unbalanced. Non-precip hours occur 30x more than precip hours. This class imbalance may bias the model because precip hours are underrepresented, which means the model won't have as many instances of precip hours to learn to distinguish precip hours from non-precip hours. "
      ]
    },
    {
      "cell_type": "markdown",
      "metadata": {
        "id": "PXrYnLPlIV49"
      },
      "source": [
        "There are a number of out-of-the-box functions that resample data very precisely. The one I use below simply randomly copies the existing precipitating observation data to balance the dataset. <br><br>\n",
        "There are a couple of risks associated with overfitting. For example, if your sample isn't a good representation of the larger distribution, you could be falsely representing relationships between samples. Additionally, if your minority case (i.e., precip days) are very rare, oversampling may increase the likelihood of occurring overfitting, since it makes copies of the minority class examples. Please see the [Wikipedia page](https://en.wikipedia.org/wiki/Oversampling_and_undersampling_in_data_analysis) for some more guidance in your future Google search on resampling data."
      ]
    },
    {
      "cell_type": "markdown",
      "metadata": {
        "id": "MmgSSdNDIV49"
      },
      "source": [
        "*Note*: This function should be called on both training and testing data separately."
      ]
    },
    {
      "cell_type": "code",
      "execution_count": 94,
      "metadata": {
        "id": "aoUEtoldIV49"
      },
      "outputs": [],
      "source": [
        "from sklearn.utils import resample"
      ]
    },
    {
      "cell_type": "code",
      "execution_count": 95,
      "metadata": {
        "id": "d8z0RTo3IV49"
      },
      "outputs": [],
      "source": [
        "def balance_data(\n",
        "    x: pd.DataFrame,\n",
        "    y: pd.Series,\n",
        "    verbose: bool,\n",
        "    random_state:int = \"\") -> tuple:\n",
        "    \"\"\"\n",
        "    Resample data ensure model is not biased towards a particular outcome of \n",
        "    precip or no precip.\n",
        "    \n",
        "    :param x: a pandas dataframe with rows of observations and columns \n",
        "    corresponding to predictors of rainfall.\n",
        "    :param y: a pandas series indicating whether rainfall is happening.\n",
        "    :param verbose: a boolean indicating whether printing resulting balanced\n",
        "    dataset shapes is desired.\n",
        "    :param random_state: (optional) an integer indicating the `random_state`\n",
        "    of the splitting of the dataset. If not provided, some integer between 0\n",
        "    and 1000 will randomly be chosen. User should provide if replicability\n",
        "    is desired.\n",
        "\n",
        "    :return: a tuple containing predictors and predictands with balanced \n",
        "    majority & minority classes.\n",
        "    \"\"\"\n",
        "    # Combine again to one dataframe to ensure both the predictor and predictand are resampled from the same \n",
        "    # observations based on predictand outcomes. \n",
        "    dataset = pd.concat([x, y],axis=1)\n",
        "\n",
        "    # Separating classes\n",
        "    raining = dataset[dataset['prec_occur'] == 1]\n",
        "    not_raining = dataset[dataset['prec_occur'] == 0]\n",
        "\n",
        "    if not random_state:\n",
        "      random_state = randint(0,1000)\n",
        "    oversample = resample(raining, \n",
        "                           replace=True, \n",
        "                           n_samples=len(not_raining), #set the number of samples to equal the number of the majority class\n",
        "                           random_state=random_state)\n",
        "\n",
        "    # Returning to new training set\n",
        "    oversample_dataset = pd.concat([not_raining, oversample])\n",
        "\n",
        "    # reseparate oversampled data into X and y sets\n",
        "    x_bal = oversample_dataset.drop(['prec_occur'], axis=1)\n",
        "    y_bal = oversample_dataset['prec_occur']\n",
        "\n",
        "    if verbose==True:\n",
        "        print(\"After scaling and rebalacing...\")\n",
        "        print(\"Shape of predictors: \"+str(np.shape(x_bal)))\n",
        "        print(\"Shape of predictands: \"+str(np.shape(y_bal)))\n",
        "        print(\" \")\n",
        "    \n",
        "    return x_bal, y_bal"
      ]
    },
    {
      "cell_type": "markdown",
      "metadata": {
        "id": "tC49gaz_IV49"
      },
      "source": [
        "#### Now, let's put the data prep code from questions 1-6 into a pipeline"
      ]
    },
    {
      "cell_type": "code",
      "execution_count": 96,
      "metadata": {
        "id": "gmEsLaXTIV49"
      },
      "outputs": [],
      "source": [
        "def dataprep_pipeline(\n",
        "    x: pd.DataFrame,\n",
        "    y: pd.Series,\n",
        "    verbose: bool,\n",
        "    random_state: int=\"\") -> tuple:\n",
        "    \"\"\"\n",
        "    Combines all the functions defined above so that the user only has to \n",
        "    call one function to do all data pre-processing.\n",
        "    \n",
        "    :param x: a pandas dataframe with rows of observations and columns \n",
        "    corresponding to predictors of rainfall.\n",
        "    :param y: a pandas series indicating whether rainfall is happening.\n",
        "    :param verbose: a boolean indicating whether printing algorithm status \n",
        "    updates are desired.\n",
        "\n",
        "    :return: a tuple containing training & testing x & y dataframes & series,\n",
        "    respectively - but minority and majority classes now balanced.\n",
        "\n",
        "    \"\"\"\n",
        "    # if no random_state is provided, choose one:\n",
        "    if not random_state:\n",
        "      random_state = randint(0,1000)\n",
        "\n",
        "    # split into training & testing data\n",
        "    if verbose==True:\n",
        "        print(\"Defining holdout data... \")\n",
        "    x_train, x_test, y_train, y_test = define_holdout_data(x, y, verbose,\n",
        "                                                           random_state) \n",
        "\n",
        "    # perform feature scaling\n",
        "    if verbose==True:\n",
        "        print(\"Performing feature scaling... \")\n",
        "    scaler, x_train_scaled, x_test_scaled = scale_data(x_train, x_test)\n",
        "\n",
        "    # rebalance according to outcomes (i.e., the number of precipitating \n",
        "    # observations & non-precipitating outcomes should be equal)\n",
        "    if verbose==True:\n",
        "        print(\"for training data... \")\n",
        "    x_train_bal, y_train_bal = balance_data(x_train_scaled, y_train, verbose, random_state)\n",
        "    if verbose==True:\n",
        "        print(\"for testing data... \")\n",
        "    x_test_bal, y_test_bal = balance_data(x_test_scaled, y_test, verbose, random_state)\n",
        "\n",
        "    if len(y_train_bal)<len(y):\n",
        "      raise Exception(\"Something's not right. Oversampling somehow resulted in a smaller dataset.\")\n",
        "    \n",
        "    return x_train_bal, y_train_bal, x_test_bal, y_test_bal"
      ]
    },
    {
      "cell_type": "code",
      "execution_count": 97,
      "metadata": {
        "colab": {
          "base_uri": "https://localhost:8080/"
        },
        "id": "WkH6hq78WyQK",
        "outputId": "a49c25ef-c7eb-4310-945a-b98caf62fb67"
      },
      "outputs": [
        {
          "name": "stdout",
          "output_type": "stream",
          "text": [
            "Defining holdout data... \n",
            "Prior to scaling and rebalacing...\n",
            "Shape of training predictors: (7027, 5)\n",
            "Shape of testing predictors: (1757, 5)\n",
            "Shape of training predictands: (7027,)\n",
            "Shape of testing predictands: (1757,)\n",
            " \n",
            "Performing feature scaling... \n",
            "for training data... \n",
            "After scaling and rebalacing...\n",
            "Shape of predictors: (13610, 5)\n",
            "Shape of predictands: (13610,)\n",
            " \n",
            "for testing data... \n",
            "After scaling and rebalacing...\n",
            "Shape of predictors: (3392, 5)\n",
            "Shape of predictands: (3392,)\n",
            " \n"
          ]
        }
      ],
      "source": [
        "x_train_bal, y_train_bal, x_test_bal, y_test_bal = dataprep_pipeline(x, y, verbose=True, random_state=80305)"
      ]
    },
    {
      "cell_type": "code",
      "execution_count": 98,
      "metadata": {
        "colab": {
          "base_uri": "https://localhost:8080/"
        },
        "id": "FbtTw03XW0CQ",
        "outputId": "11c00ee1-b720-4c87-8ab0-1ed26ff3074f"
      },
      "outputs": [
        {
          "name": "stdout",
          "output_type": "stream",
          "text": [
            "Defining holdout data... \n",
            "Prior to scaling and rebalacing...\n",
            "Shape of training predictors: (7027, 5)\n",
            "Shape of testing predictors: (1757, 5)\n",
            "Shape of training predictands: (7027,)\n",
            "Shape of testing predictands: (1757,)\n",
            " \n",
            "Performing feature scaling... \n",
            "for training data... \n",
            "After scaling and rebalacing...\n",
            "Shape of predictors: (13610, 5)\n",
            "Shape of predictands: (13610,)\n",
            " \n",
            "for testing data... \n",
            "After scaling and rebalacing...\n",
            "Shape of predictors: (3392, 5)\n",
            "Shape of predictands: (3392,)\n",
            " \n"
          ]
        }
      ],
      "source": [
        "x_train_bal2, y_train_bal2, x_test_bal2, y_test_bal2 = dataprep_pipeline(x, y, verbose=True, random_state=80305)"
      ]
    },
    {
      "cell_type": "markdown",
      "metadata": {
        "id": "RsW0VLltIV49"
      },
      "source": [
        "### Q7. What are the appropriate metrics for assessing your model?"
      ]
    },
    {
      "cell_type": "markdown",
      "metadata": {
        "id": "2K0WmhLzIV49"
      },
      "source": [
        "These metrics will be used to evaluate the model after training. Thus, these functions will also be called for each model."
      ]
    },
    {
      "cell_type": "code",
      "execution_count": 99,
      "metadata": {
        "id": "9NbyJvSEIV4-"
      },
      "outputs": [],
      "source": [
        "from sklearn import metrics\n",
        "from sklearn.metrics import accuracy_score, f1_score, precision_score, recall_score, roc_auc_score, confusion_matrix\n",
        "import matplotlib.pyplot as plt\n",
        "import seaborn as sns"
      ]
    },
    {
      "cell_type": "markdown",
      "metadata": {
        "id": "DkK9ZhjpIV4-"
      },
      "source": [
        "#### First, define functions for evaluating models"
      ]
    },
    {
      "cell_type": "markdown",
      "metadata": {
        "id": "75F6-jmlIV4-"
      },
      "source": [
        "I'm simply going to train various models and then look at their model metrics. Then we can make a prediction based on some selected observation to obtain a likelihood that it's raining, and we can compare with our own eyes whether the model gets it right."
      ]
    },
    {
      "cell_type": "markdown",
      "metadata": {
        "id": "KT-SM4GxIV4-"
      },
      "source": [
        "Below are some commonly-used metrics for assessing the value of a given Machine Learning model."
      ]
    },
    {
      "cell_type": "markdown",
      "metadata": {
        "id": "QB7XFBKoIV4-"
      },
      "source": [
        "\"**True Positive (TP)**\" Is the number of times the model predicts a positive when the observation is actually positive. In our case, the model predicts that its raining when it is actually raining.<br>\n",
        "\"**False Positive (FP)**\" The number of times the model guesses that it's raining when it's not actually raining.<br>\n",
        "The same applies to **True Negatives (TN)** (correctly predicting that it's not raining) and **False Negatives (FN)** (predicting no rain when it's actually raining).\n",
        "\n",
        "\n",
        " - **Precision = TP/(TP + FP)**: The proportion of predicted precipitating events that are actually precipitating.\n",
        " - **Accuracy = (TP + TN)/(total)**: The proportion of precipitating hours or non-precipitating hours that are correctly predicted by the model.\n",
        " - **Recall = TP/(TP + FN)**: The proportion of precipitating hours that are correctly predicted by the model.<br>\n",
        "<br>\n",
        "Other important metrics that we aren't going to look at today:\n",
        " - **F1**: a way to capture how well the model predicts the hours that it's actually precipitating.\n",
        " - **ROC/AUC**: how well the model separates precipitating hours from non-precipitating hours."
      ]
    },
    {
      "cell_type": "markdown",
      "metadata": {
        "id": "XvvpAciWIV4-"
      },
      "source": [
        "Below, I define a couple of functions that will help us visualize the metrics listed above."
      ]
    },
    {
      "cell_type": "code",
      "execution_count": 100,
      "metadata": {
        "id": "BPaTeTm4IV4-"
      },
      "outputs": [],
      "source": [
        "# Print rounded metrics for each model.\n",
        "def bin_metrics(y_hat: pd.Series, y: pd.Series) -> tuple:\n",
        "    \"\"\"Prints accuracy and recall metrics for evaluating classification \n",
        "    predictions.\n",
        "    \n",
        "    :param y_hat: a pandas series that contains some boolean indication of \n",
        "    whether it's raining or not predicted by the trained model. \n",
        "    :param y: a pandas series that contains some boolean indication of \n",
        "    whether it's raining or not from observations\n",
        "\n",
        "    :return: a tuple containing values for the accuracy & recall, respectively.\n",
        "    \"\"\"\n",
        "    \n",
        "    accuracy = metrics.accuracy_score(y_hat, y)\n",
        "    recall = metrics.recall_score(y_hat, y)\n",
        "\n",
        "    print('Accuracy:', round(accuracy, 4))\n",
        "    print('Recall:', round(recall, 4))\n",
        "    \n",
        "    return accuracy, recall\n",
        "\n",
        "\n",
        "# Pplot confusion matrix\n",
        "def plot_cm(y_hat: pd.Series, y: pd.Series) -> None:\n",
        "    \"\"\"Plots the confusion matrix to visualize true \n",
        "    & false positives & negatives\n",
        "\n",
        "    :param y_hat: a pandas series that contains some boolean indication of \n",
        "    whether it's raining or not predicted by the trained model. \n",
        "    :param y: a pandas series that contains some boolean indication of \n",
        "    whether it's raining or not from observations\n",
        "\n",
        "    :return: None    \n",
        "    \"\"\"\n",
        "    cm = confusion_matrix(y_hat, y)\n",
        "    df_cm = pd.DataFrame(cm, columns=np.unique(y_hat), index = np.unique(y_hat))\n",
        "    df_cm.index.name = 'Actual'\n",
        "    df_cm.columns.name = 'Predicted'\n",
        "    sns.heatmap(df_cm, cmap=\"Blues\", annot=True,annot_kws={\"size\": 25}, fmt='g')# font size\n",
        "    plt.ylim([0, 2])\n",
        "    plt.xticks([0.5, 1.5], ['Negatives','Positives'])\n",
        "    plt.yticks([0.5, 1.5], ['Negatives','Positives'])\n",
        "\n",
        "    return"
      ]
    },
    {
      "cell_type": "markdown",
      "metadata": {
        "id": "31uH2ic4IV4-"
      },
      "source": [
        "Based on our answer to number 7 under the \"1. Data Preparation\" section above, I will be using **Accuracy** and **Recall** to compare these four different models."
      ]
    },
    {
      "cell_type": "markdown",
      "metadata": {
        "id": "RStOBm2OIV4_"
      },
      "source": [
        "#### Another way we can evaluate the models is to compare precipitation likelihood given the same set of atmospheric conditions."
      ]
    },
    {
      "cell_type": "markdown",
      "metadata": {
        "id": "Ae7XptvuIV4_"
      },
      "source": [
        "First, let's choose some observation in the pre-scaled dataset shows that it's raining, and then find the corresponding scaled observation:"
      ]
    },
    {
      "cell_type": "code",
      "execution_count": 101,
      "metadata": {
        "id": "wrUkEgo3IV4_"
      },
      "outputs": [],
      "source": [
        "def rand_atmos_conditions_precip(\n",
        "    random_state: int=randint(0,1000),\n",
        "    index: str='rand') -> tuple:\n",
        "    \"\"\"\n",
        "    Function returns atmospheric conditions in a dataframe as well as the scaled\n",
        "    conditions in a numpy array so that they output a prediction in the model.\n",
        "    \n",
        "    If no input is passed, the function will randomly generate an in index to \n",
        "    choose from those observations in some training data with precipitation. \n",
        "    Otherwise, an integer index between 0 and 200 should be passed.\n",
        "\n",
        "    :param random_state:\n",
        "    :param index:\n",
        "    \"\"\"\n",
        "    # First, perform a test-train split\n",
        "    x_train, x_test, y_train, _ = define_holdout_data(x, y, verbose=False) \n",
        "\n",
        "    # perform feature scaling - this happens *AFTER* the test-train split\n",
        "    _, x_train_scaled, _ = scale_data(x_train, x_test)\n",
        "\n",
        "    # this is what will go into the model to output a prediction\n",
        "    if index=='rand':\n",
        "        index = randint(0,len(y_train[y_train==1].index)) \n",
        "    precipindex = y_train[y_train==1].index.values[index]\n",
        "    testpredictor = x_train_scaled.loc[precipindex] \n",
        "    \n",
        "    return df.iloc[precipindex], testpredictor    "
      ]
    },
    {
      "cell_type": "markdown",
      "metadata": {
        "id": "t8MbicKjIV4_"
      },
      "source": [
        "I will choose some atmospheric conditions after training the first model, and then use those conditions for the other models."
      ]
    },
    {
      "cell_type": "markdown",
      "metadata": {
        "id": "HrR8mY6ZIV4_"
      },
      "source": [
        "---------------------------------------------"
      ]
    },
    {
      "cell_type": "markdown",
      "metadata": {
        "id": "FL68d-Q0IV4_"
      },
      "source": [
        "# 2.1.B Train & compare four ML models"
      ]
    },
    {
      "cell_type": "markdown",
      "metadata": {
        "id": "Zkd-8UTCIV4_"
      },
      "source": [
        "Each section below goes through building and training a ML model. In each section, there are a few steps for each model \"pipeline\":\n",
        "1. __Randomly perform a test-train split, feature scaling, and resample data to ensure outcomes are balanced__. \n",
        "2. __Train your model__.\n",
        "3. __Assess model metrics with testing and training data__. We begin by first assessing each model's performance by calculating the metrics defined above on the *testing* or *holdout* data; the key here is that the model has never seen this data. <br>__If applicable, tune your model.__ This means choosing new *hyperparameters*, retraining the model, and then reassessing the same model metrics to see if the model yields better results.\n",
        "3. __Check for model overfitting__. We will also check to see if the model is overfitting by comparing metrics of the testing data to that of the training data. In short, the training data should not be outperforming the testing data.\n",
        "4. __Actually make a prediction with a single observation__. "
      ]
    },
    {
      "cell_type": "markdown",
      "metadata": {
        "id": "SB9KLMQlIV4_"
      },
      "source": [
        "<br><br>"
      ]
    },
    {
      "cell_type": "markdown",
      "metadata": {
        "id": "0Bgo853jIV4_"
      },
      "source": [
        "## 2.1.B.a. [Logistic Regression](https://scikit-learn.org/stable/modules/linear_model.html#logistic-regression)"
      ]
    },
    {
      "cell_type": "markdown",
      "metadata": {
        "id": "xi9mBlyhIV5A"
      },
      "source": [
        "Let's just start with a simple Logistic Regression. A Logistic Regression is a very specialized model in that in that it only computes the probability of a binary outcome.  \n",
        "![logistic regression gif](https://drive.google.com/uc?export=view&id=1_LOP_Vdi5DkICWRDf7tgN-OMMTRGMQRm)\n",
        "<br>\n",
        "This model also requires that the assumptions of linear regression must hold, i.e., <br>\n",
        "1. linear relationship between predictors & predictand, \n",
        "2. normally distributed residuals between observed predictand and predicted outcome, \n",
        "3. no collinearity must exist among predictors, i.e., must be independent<br>"
      ]
    },
    {
      "cell_type": "markdown",
      "metadata": {
        "id": "G6MvvpxXIV5A"
      },
      "source": [
        "Logistic Regression shouldn't perform any better than a linear regression, so let's just start with this as an illustration of how well linearity assumptions hold in this dataset.<br>"
      ]
    },
    {
      "cell_type": "code",
      "execution_count": 102,
      "metadata": {
        "id": "noAxbS4BIV5A"
      },
      "outputs": [],
      "source": [
        "from sklearn.linear_model import LogisticRegression"
      ]
    },
    {
      "cell_type": "markdown",
      "metadata": {
        "id": "d1RX7rBBIV5A"
      },
      "source": [
        "#### 1. Perform a test-train split, perform feature scaling, and the rebalance our dataset."
      ]
    },
    {
      "cell_type": "code",
      "execution_count": 103,
      "metadata": {
        "colab": {
          "base_uri": "https://localhost:8080/"
        },
        "id": "0wzanzxuIV5A",
        "outputId": "b841f981-7113-42b7-9040-983c28be532a"
      },
      "outputs": [
        {
          "name": "stdout",
          "output_type": "stream",
          "text": [
            "Defining holdout data... \n",
            "Prior to scaling and rebalacing...\n",
            "Shape of training predictors: (7027, 5)\n",
            "Shape of testing predictors: (1757, 5)\n",
            "Shape of training predictands: (7027,)\n",
            "Shape of testing predictands: (1757,)\n",
            " \n",
            "Performing feature scaling... \n",
            "for training data... \n",
            "After scaling and rebalacing...\n",
            "Shape of predictors: (13610, 5)\n",
            "Shape of predictands: (13610,)\n",
            " \n",
            "for testing data... \n",
            "After scaling and rebalacing...\n",
            "Shape of predictors: (3392, 5)\n",
            "Shape of predictands: (3392,)\n",
            " \n"
          ]
        }
      ],
      "source": [
        "x_train_bal, y_train_bal, x_test_bal, y_test_bal = dataprep_pipeline(x, y, verbose=True, random_state=80305)"
      ]
    },
    {
      "cell_type": "markdown",
      "metadata": {
        "id": "rWAiRkaQIV5A"
      },
      "source": [
        "#### 2. Train the Logistic Regression model"
      ]
    },
    {
      "cell_type": "code",
      "execution_count": 104,
      "metadata": {
        "id": "EgsWVLy7IV5A"
      },
      "outputs": [],
      "source": [
        "# initialize the model\n",
        "lr = LogisticRegression(solver='lbfgs') \n",
        "# we choose this particular solver because we're not regularizing or penalizing certain features\n",
        "\n",
        "# fit the model to scaled & balanced training data. Side note: this is where *Gradient Descent* occurs.\n",
        "lr.fit(x_train_bal, y_train_bal);"
      ]
    },
    {
      "cell_type": "markdown",
      "metadata": {
        "id": "38XT6zGvIV5A"
      },
      "source": [
        "#### 3. Assess Logistic Regression's performance using testing data"
      ]
    },
    {
      "cell_type": "markdown",
      "metadata": {
        "id": "pEykWryGIV5A"
      },
      "source": [
        "Now that we've \"trained\" our model, we make predictions using data that the model has never seen before (i.e., our holdout testing data) to see how it performs. "
      ]
    },
    {
      "cell_type": "code",
      "execution_count": 105,
      "metadata": {
        "colab": {
          "base_uri": "https://localhost:8080/",
          "height": 489
        },
        "id": "gKfIHcmpIV5B",
        "outputId": "b71d988c-4f25-4980-e005-75ed538a328e"
      },
      "outputs": [
        {
          "name": "stdout",
          "output_type": "stream",
          "text": [
            "Accuracy: 0.7724\n",
            "Recall: 0.7748\n"
          ]
        },
        {
          "data": {
            "image/png": "[encoded data removed]",
            "text/plain": [
              "<Figure size 640x480 with 2 Axes>"
            ]
          },
          "metadata": {},
          "output_type": "display_data"
        }
      ],
      "source": [
        "y_pred = lr.predict(x_test_bal)\n",
        "\n",
        "# Call functions defined above to calculate metrics & plot a confusion matrix based on\n",
        "# how well model simulates testing data\n",
        "plot_cm(y_test_bal, y_pred);\n",
        "lr_acc, lr_rec = bin_metrics(y_test_bal, y_pred)"
      ]
    },
    {
      "cell_type": "markdown",
      "metadata": {
        "id": "_xJ5PrsBIV5B"
      },
      "source": [
        "We determined earlier that False Positives are less harmful than False Negatives. Thus, along with accuracy, which essentially measures how close the model is to the target, we should try to maximize recall. Luckily, recall is the highest-scoring metric for this model (recall = ~87%).<br><br>\n",
        "Let's focus on accuracy, though, for a moment. Accuracy tells is the percent of correct predictions, whether precipitating or not. The Logistic Regression model, without any additional tuning, can correctly predict whether it's precipitating or not given a set of present atmospheric conditions around 84% of the time. "
      ]
    },
    {
      "cell_type": "markdown",
      "metadata": {
        "id": "ZxHrK_07IV5B"
      },
      "source": [
        "#### 4. Check to see if the Logistic Regression model is overfitting (or underfitting)"
      ]
    },
    {
      "cell_type": "markdown",
      "metadata": {
        "id": "SrRFeanxIV5B"
      },
      "source": [
        "A very important aspect of tuning machine learning model is to ensure the model isn't overfitting or underfitting."
      ]
    },
    {
      "cell_type": "markdown",
      "metadata": {
        "id": "EKifLlZbIV5B"
      },
      "source": [
        "![overfitting.v.underfitting](https://drive.google.com/uc?export=view&id=1cKNtqszFpzcLxPnNhSwHwvK_W_YGLfs1)"
      ]
    },
    {
      "cell_type": "markdown",
      "metadata": {
        "id": "fiZMjC5xIV5B"
      },
      "source": [
        "An underfit model is a biased model. Symptoms of underfitting are that your training data performs worse than your testing data, or the model metrics are just poor overall. To alleviate underfitting, introduce more variance into the model by adding more features, use ensemble methods, or increase model complexity. <br><br>\n",
        "An overfit model means the model is fit very well to the training data, but fails to generalize predictions outside the training dataset. A symptom of overfitting is that the models' training accuracy is much better than the testing accuracy. Overfitting can happen more easily in more complex models, like neural networks. To alleviate overfitting, one needs to reduce variance, through **feature regularization**, lowering model complexity, or performing k-folds cross-validation.<br><br>\n",
        "Before you dive too deeply into ML and in your own time, I suggest watching [this 6-minute StatQuest YouTube video](https://www.youtube.com/watch?v=EuBBz3bI-aA) to develop an intuition of error, overfitting, and underfitting."
      ]
    },
    {
      "cell_type": "code",
      "execution_count": 106,
      "metadata": {
        "colab": {
          "base_uri": "https://localhost:8080/"
        },
        "id": "PenIuu-GIV5B",
        "outputId": "45f18e30-775e-4499-fb45-cfb44177fbc8"
      },
      "outputs": [
        {
          "name": "stdout",
          "output_type": "stream",
          "text": [
            "Training metrics:\n",
            "Accuracy: 0.7963\n",
            "Recall: 0.8338\n",
            " \n",
            "Testing metrics:\n",
            "Accuracy: 0.7724\n",
            "Recall: 0.7748\n"
          ]
        }
      ],
      "source": [
        "# Compare testing data metrics to data training metrics.\n",
        "print(\"Training metrics:\")\n",
        "pred_train= lr.predict(x_train_bal) \n",
        "bin_metrics(y_train_bal,pred_train);\n",
        "\n",
        "# As a reminder, display testing metrics:\n",
        "print(\" \")\n",
        "print(\"Testing metrics:\")\n",
        "bin_metrics(y_test_bal, y_pred);"
      ]
    },
    {
      "cell_type": "markdown",
      "metadata": {
        "id": "n0_ar58qIV5B"
      },
      "source": [
        "Remember:<br>\n",
        "testing metrics > training metrics = underfitting, model is too simple<br>\n",
        "testing metrics < training metrics = overfitting, model is too complex<br><br>"
      ]
    },
    {
      "cell_type": "markdown",
      "metadata": {
        "id": "dFuoUxvIIV5B"
      },
      "source": [
        "#### 5. Make a prediction with the Logistic Regression model"
      ]
    },
    {
      "cell_type": "markdown",
      "metadata": {
        "id": "7aJT3MvSIV5B"
      },
      "source": [
        "First, we randomly choose some atmospheric conditions using the function defined above. This will be the atmospheric conditions we use for all models we build."
      ]
    },
    {
      "cell_type": "code",
      "execution_count": 107,
      "metadata": {
        "id": "NTzj5layIV5C"
      },
      "outputs": [],
      "source": [
        "origvals, testpredictor = rand_atmos_conditions_precip()\n",
        "# print(origvals) # observation from original dataframe\n",
        "# print(testpredictor) # scaled observation"
      ]
    },
    {
      "cell_type": "code",
      "execution_count": 108,
      "metadata": {
        "colab": {
          "base_uri": "https://localhost:8080/"
        },
        "id": "ap69nuemIV5C",
        "outputId": "af1152e0-98bb-4b5d-c712-a377515e73a0"
      },
      "outputs": [
        {
          "name": "stdout",
          "output_type": "stream",
          "text": [
            "The meteorological conditions are: \n",
            "day             42552.000000\n",
            "hour                0.666667\n",
            "temp_F             71.600000\n",
            "RH                 75.700000\n",
            "dewtemp_F          63.500000\n",
            "wind_mph            6.000000\n",
            "wind_dir          261.000000\n",
            "windgust           13.600000\n",
            "windgust_dir      270.000000\n",
            "pres_Hg           841.500000\n",
            "SOLIN_Wm2         112.800000\n",
            "Prec_inches         0.010000\n",
            "prec_occur          1.000000\n",
            "Name: 4384, dtype: float64\n",
            " \n",
            "There is a 89.68% chance of precipitation given those meteorological conditions.\n"
          ]
        },
        {
          "name": "stderr",
          "output_type": "stream",
          "text": [
            "/Users/ash/Documents/ATOC5860/.venv/lib/python3.12/site-packages/sklearn/base.py:493: UserWarning: X does not have valid feature names, but LogisticRegression was fitted with feature names\n",
            "  warnings.warn(\n"
          ]
        }
      ],
      "source": [
        "# prediction output is in the format [probability no rain, probability rain]\n",
        "lr_prediction = lr.predict_proba(np.array(testpredictor).reshape(1, -1))[0][1]*100 \n",
        "print(\"The meteorological conditions are: \")\n",
        "print(origvals)\n",
        "print(\" \")\n",
        "print(f\"There is a {round(lr_prediction,2)}% chance of precipitation given those meteorological conditions.\")"
      ]
    },
    {
      "cell_type": "markdown",
      "metadata": {
        "id": "BKpVlf8hIV5C"
      },
      "source": [
        "<br><br><br>"
      ]
    },
    {
      "cell_type": "markdown",
      "metadata": {
        "id": "TLGGhznpIV5C"
      },
      "source": [
        "## 2.1.B.b. [Random Forest](https://scikit-learn.org/stable/modules/ensemble.html#forest)"
      ]
    },
    {
      "cell_type": "markdown",
      "metadata": {
        "id": "gunv0UuVIV5C"
      },
      "source": [
        "To understand random forests, one must first understand a [decision tree](https://scikit-learn.org/stable/modules/tree.html#tree). A decision tree is intuitive: it is essentially a flowchart to point to an outcome based on \"decisions\" for each feature. <br><br>\n",
        "A Random Forest is an ensemble of decision trees that are randomly constructed based on the features of the dataset and number of decisions. Trees are constructed by randomly choosing a feature to \"seed\" each tree, and then making rules or associations with other features to lead to the specified outcome."
      ]
    },
    {
      "cell_type": "markdown",
      "metadata": {
        "id": "PBWcKG0MIV5C"
      },
      "source": [
        "![random_forest](https://drive.google.com/uc?export=view&id=1Epldg87IF1Tu9-wTGOe5Rpp0Jvewwmrc)"
      ]
    },
    {
      "cell_type": "code",
      "execution_count": 109,
      "metadata": {
        "id": "Tg2Euy65IV5C"
      },
      "outputs": [],
      "source": [
        "from sklearn.ensemble import RandomForestClassifier\n",
        "import time"
      ]
    },
    {
      "cell_type": "markdown",
      "metadata": {
        "id": "uKEwvM4KIV5C"
      },
      "source": [
        "#### 1. If you didn't perform for Logistic Regression above, perform a test-train split, perform feature scaling, and the rebalance our dataset. \n",
        "Otherwise, you can run this cell, but since I've specified the `random_state` to be the same as above, you should get the same set of data."
      ]
    },
    {
      "cell_type": "code",
      "execution_count": 110,
      "metadata": {
        "id": "KYhHN-NIIV5C"
      },
      "outputs": [],
      "source": [
        "if 'x_train_bal' not in locals():\n",
        "  x_train_bal, y_train_bal, x_test_bal, y_test_bal = dataprep_pipeline(x, y, verbose=False, random_state=80305)"
      ]
    },
    {
      "cell_type": "markdown",
      "metadata": {
        "id": "4j2h_GB6IV5D"
      },
      "source": [
        "#### 2. Train (and tuning) the Random Forest model"
      ]
    },
    {
      "cell_type": "markdown",
      "metadata": {
        "id": "eRAz1BzKIV5D"
      },
      "source": [
        "#### Choosing hyperparameters"
      ]
    },
    {
      "cell_type": "markdown",
      "metadata": {
        "id": "-xEzk2hxIV5D"
      },
      "source": [
        "Typically, in Machine Learning models, we can choose a hyperparameters that control the behavior of the model and can improve model performance. These hyperparamters are just numbers that tell the model to act in different ways. Adjusting hyperparameters can control the complexity of the model, and thus, influence model metrics. <br><br>\n",
        "There are many hyperparameters one can decide upon when tuning the Random Forest classifier (see scikit-learn page on Random Forests for more examples). The two we will be adjusting is \n",
        "1. The number of estimators or \"trees\" in the forest\n",
        "2. The depth of the tree, or how many \"decisions\" are made until convergence is reached. "
      ]
    },
    {
      "cell_type": "code",
      "execution_count": 111,
      "metadata": {
        "colab": {
          "base_uri": "https://localhost:8080/"
        },
        "id": "1bLPGHc5IV5D",
        "outputId": "a5676658-0257-4518-ebf1-e480c65667ec"
      },
      "outputs": [
        {
          "name": "stdout",
          "output_type": "stream",
          "text": [
            "Number of estimators is 10\n",
            "depth is 2\n",
            "depth is 10\n",
            "depth is 100\n",
            "Random Forest took 0.2500271797180176 seconds.\n",
            "Number of estimators is 50\n",
            "depth is 2\n",
            "depth is 10\n",
            "depth is 100\n",
            "Random Forest took 0.8193080425262451 seconds.\n",
            "Number of estimators is 500\n",
            "depth is 2\n",
            "depth is 10\n",
            "depth is 100\n",
            "Random Forest took 8.363423824310303 seconds.\n"
          ]
        }
      ],
      "source": [
        "acc_scores = []\n",
        "rec_scores = []\n",
        "\n",
        "num_est = [10, 50, 500] # number of trees\n",
        "depth = [2, 10, 100] # number of decisions\n",
        "for i in num_est:\n",
        "    start = time.time()\n",
        "    print(\"Number of estimators is \"+str(i))\n",
        "\n",
        "    for k in depth:\n",
        "        print(\"depth is \"+str(k))\n",
        "        forest = RandomForestClassifier(n_estimators=i, max_depth=k)\n",
        "        forest.fit(x_train_bal, y_train_bal)\n",
        "        \n",
        "        # cross validate & evaluate metrics based on testing data\n",
        "        pred_test= forest.predict(x_test_bal)\n",
        "        acc_val = metrics.accuracy_score(y_test_bal, pred_test)\n",
        "        acc_scores.append(acc_val)\n",
        "        rec_val = metrics.recall_score(y_test_bal, pred_test)\n",
        "        rec_scores.append(rec_val)\n",
        "\n",
        "    end = time.time()\n",
        "    print(\"Random Forest took \"+str(end-start)+\" seconds.\")"
      ]
    },
    {
      "cell_type": "code",
      "execution_count": 112,
      "metadata": {
        "colab": {
          "base_uri": "https://localhost:8080/",
          "height": 465
        },
        "id": "gR8Nu5MXIV5D",
        "outputId": "5d55bd21-7ed4-4d2a-d30b-aed41970daca"
      },
      "outputs": [
        {
          "name": "stdout",
          "output_type": "stream",
          "text": [
            "Max Accuracy (black): 0.7904\n",
            "Max Recall (blue): 0.7182\n"
          ]
        },
        {
          "data": {
            "image/png": "[encoded data removed]",
            "text/plain": [
              "<Figure size 640x480 with 1 Axes>"
            ]
          },
          "metadata": {},
          "output_type": "display_data"
        }
      ],
      "source": [
        "plt.plot(acc_scores, marker='o', color='black')\n",
        "plt.plot(rec_scores, marker='o', color='blue')\n",
        "print(\"Max Accuracy (black):\", round(max(acc_scores), 4))\n",
        "print(\"Max Recall (blue):\", round(max(rec_scores), 4))"
      ]
    },
    {
      "cell_type": "markdown",
      "metadata": {
        "id": "3rVW4i3hIV5D"
      },
      "source": [
        "**x =** <br>\n",
        "0, 1, 2: number of estimators = 10<br>\n",
        "3, 4, 5: number of estimators = 50<br>\n",
        "6, 7, 8: number of estimators = 500<br>\n",
        "<br>\n",
        "0, 3, 6: depth range = 2<br>\n",
        "1, 4, 7: depth range = 10<br>\n",
        "2, 5, 8: depth range = 100<br>"
      ]
    },
    {
      "cell_type": "markdown",
      "metadata": {
        "id": "-UlKy7zgIV5D"
      },
      "source": [
        "Choosing the right hyperparameters for this model requires revisiting which metrics are most important to our question. We want to maximize both recall and accuracy. <br><br>\n",
        "For simplicity, I choose the parameters corresponding to x=0, but __I highly suggest you try other combinations of parameters as well__."
      ]
    },
    {
      "cell_type": "code",
      "execution_count": 113,
      "metadata": {
        "id": "BgZvDHMBIV5D"
      },
      "outputs": [],
      "source": [
        "forest = RandomForestClassifier(n_estimators=10, max_depth=2);\n",
        "forest.fit(x_train_bal, y_train_bal);"
      ]
    },
    {
      "cell_type": "markdown",
      "metadata": {
        "id": "PwDBiAkVIV5D"
      },
      "source": [
        "#### 3. Assess the Random Forest's performance using testing data"
      ]
    },
    {
      "cell_type": "markdown",
      "metadata": {
        "id": "UwT15zu2IV5E"
      },
      "source": [
        "Once again, we will use our testing data to make an initial evaluation of how the model is doing."
      ]
    },
    {
      "cell_type": "code",
      "execution_count": 114,
      "metadata": {
        "colab": {
          "base_uri": "https://localhost:8080/",
          "height": 484
        },
        "id": "ObvARYd8IV5E",
        "outputId": "565cc5bf-97ba-4d50-c8af-2d00323c2a77"
      },
      "outputs": [
        {
          "name": "stdout",
          "output_type": "stream",
          "text": [
            "Accuracy: 0.773\n",
            "Recall: 0.7011\n"
          ]
        },
        {
          "data": {
            "image/png": "[encoded data removed]",
            "text/plain": [
              "<Figure size 640x480 with 2 Axes>"
            ]
          },
          "metadata": {},
          "output_type": "display_data"
        }
      ],
      "source": [
        "pred_test= forest.predict(x_test_bal)\n",
        "\n",
        "# Call functions defined above to calculate metrics & plot a confusion matrix based on\n",
        "# how well model simulates testing data\n",
        "forest_acc, forest_rec = bin_metrics(y_test_bal, pred_test)\n",
        "plot_cm(y_test_bal, pred_test)"
      ]
    },
    {
      "cell_type": "markdown",
      "metadata": {
        "id": "D87thTfXIV5E"
      },
      "source": [
        "#### 4. Check to see if the Random Forest is overfitting"
      ]
    },
    {
      "cell_type": "code",
      "execution_count": 115,
      "metadata": {
        "colab": {
          "base_uri": "https://localhost:8080/"
        },
        "id": "KCcyA9I4IV5E",
        "outputId": "24102bbd-cca1-4123-aae4-9b4b958f938b"
      },
      "outputs": [
        {
          "name": "stdout",
          "output_type": "stream",
          "text": [
            "Training metrics:\n",
            "Accuracy: 0.7864\n",
            "Recall: 0.7267\n",
            " \n",
            "Testing metrics:\n",
            "Accuracy: 0.773\n",
            "Recall: 0.7011\n"
          ]
        }
      ],
      "source": [
        "# Compare testing data metrics to data training metrics.\n",
        "print(\"Training metrics:\")\n",
        "rf_pred_train= forest.predict(x_train_bal) \n",
        "bin_metrics(y_train_bal,rf_pred_train);\n",
        "\n",
        "# As a reminder, display testing metrics:\n",
        "print(\" \")\n",
        "print(\"Testing metrics:\")\n",
        "bin_metrics(y_test_bal, pred_test);"
      ]
    },
    {
      "cell_type": "markdown",
      "metadata": {
        "id": "huKAdBukIV5E"
      },
      "source": [
        "Remember:<br>\n",
        "testing metrics > training metrics = underfitting, model is too simple<br>\n",
        "testing metrics < training metrics = overfitting, model is too complex"
      ]
    },
    {
      "cell_type": "markdown",
      "metadata": {
        "id": "n1boQogqIV5E"
      },
      "source": [
        "Random forests seldom overfit, but if they do, one should try increasing the number of trees, or decreasing the amount of data used to construct each tree. See scikit-learn's [Random Forest Classifier webpage](https://scikit-learn.org/stable/modules/generated/sklearn.ensemble.RandomForestClassifier.html) for information on more hyperparameters one can tune to address overfitting."
      ]
    },
    {
      "cell_type": "markdown",
      "metadata": {
        "id": "hnSygaSjIV5E"
      },
      "source": [
        "#### 5. Make a prediction with the Random Forest"
      ]
    },
    {
      "cell_type": "code",
      "execution_count": 116,
      "metadata": {
        "colab": {
          "base_uri": "https://localhost:8080/"
        },
        "id": "jZWCBePvIV5E",
        "outputId": "3fd7da2b-0132-47e0-de3f-2dd3ad20c6ab"
      },
      "outputs": [
        {
          "name": "stdout",
          "output_type": "stream",
          "text": [
            "The meteorological conditions are: \n",
            "day             42552.000000\n",
            "hour                0.666667\n",
            "temp_F             71.600000\n",
            "RH                 75.700000\n",
            "dewtemp_F          63.500000\n",
            "wind_mph            6.000000\n",
            "wind_dir          261.000000\n",
            "windgust           13.600000\n",
            "windgust_dir      270.000000\n",
            "pres_Hg           841.500000\n",
            "SOLIN_Wm2         112.800000\n",
            "Prec_inches         0.010000\n",
            "prec_occur          1.000000\n",
            "Name: 4384, dtype: float64\n",
            " \n",
            "There is a 62.10% chance of precipitation given those meteorological conditions.\n"
          ]
        },
        {
          "name": "stderr",
          "output_type": "stream",
          "text": [
            "/Users/ash/Documents/ATOC5860/.venv/lib/python3.12/site-packages/sklearn/base.py:493: UserWarning: X does not have valid feature names, but RandomForestClassifier was fitted with feature names\n",
            "  warnings.warn(\n"
          ]
        }
      ],
      "source": [
        "# prediction output is in the format [probability no rain, probability rain]\n",
        "forest_prediction = forest.predict_proba(np.array(testpredictor).reshape(1, -1))[0][1]*100 \n",
        "print(\"The meteorological conditions are: \")\n",
        "print(origvals)\n",
        "print(\" \")\n",
        "print(\"There is a {0:.{digits}f}% chance of precipitation given those meteorological conditions.\".format(forest_prediction, digits=2))"
      ]
    },
    {
      "cell_type": "markdown",
      "metadata": {
        "id": "Ov_X9yjfIV5E"
      },
      "source": [
        "*The random forest yields yet another percent chance of precipitation given the meteorological conditions... hmm...*"
      ]
    },
    {
      "cell_type": "markdown",
      "metadata": {
        "id": "oj0Z0iLRIV5E"
      },
      "source": [
        "<br><br><br>"
      ]
    },
    {
      "cell_type": "markdown",
      "metadata": {
        "id": "JgGja1YnIV5H"
      },
      "source": [
        "## 2.1.B.c. [Neural Network](https://blog.insightdatascience.com/a-quick-introduction-to-vanilla-neural-networks-b0998c6216a1)\n",
        "![neuarl net chart](https://drive.google.com/uc?export=view&id=1dGiM6CMR0kKSh2kVe9N3e_WBdCCzjweq)\n",
        "![neural net equation](https://drive.google.com/uc?export=view&id=1QsWJbcry5SQqalXu3gKwcH9phE98lEOQ)\n"
      ]
    },
    {
      "cell_type": "markdown",
      "metadata": {
        "id": "5wdnwL9hIV5H"
      },
      "source": [
        "*Note: there is a TON of information online about Neural Networks.* I suggest starting with the 3-part blog series on neural networks accessible in the link above for a gentle introduction to the theory. <br><br>\n",
        "If you'd rather absorb new information through watching a video, I found [this three-part series of youtube videos](https://www.youtube.com/watch?v=aircAruvnKk) (totaling about an hour in length) to be very helpful.<br><br>\n",
        "Another great resource is [machinelearningmastery.com](machinelearningmastery.com). In fact, the model below is based off of [this blog post](https://machinelearningmastery.com/binary-classification-tutorial-with-the-keras-deep-learning-library/). "
      ]
    },
    {
      "cell_type": "code",
      "execution_count": 117,
      "metadata": {
        "id": "XIXMxG9-IV5H"
      },
      "outputs": [],
      "source": [
        "import tensorflow.keras as keras\n",
        "from tensorflow.keras.models import Sequential\n",
        "from tensorflow.keras.layers import Dense"
      ]
    },
    {
      "cell_type": "markdown",
      "metadata": {
        "id": "uDUtulA7IV5H"
      },
      "source": [
        "#### 1. Perform a test-train split, perform feature scaling, and the rebalance our dataset."
      ]
    },
    {
      "cell_type": "markdown",
      "metadata": {
        "id": "VEwyfrCUIV5H"
      },
      "source": [
        "Split test & training data, perform feature scaling, and rebalance dataset according to outcomes if you didn't do so above."
      ]
    },
    {
      "cell_type": "code",
      "execution_count": 118,
      "metadata": {
        "id": "SH_WE9VXIV5I"
      },
      "outputs": [],
      "source": [
        "if 'x_train_bal' not in locals():\n",
        "  x_train_bal, y_train_bal, x_test_bal, y_test_bal = dataprep_pipeline(x, y, verbose=False, random_state=80305)"
      ]
    },
    {
      "cell_type": "markdown",
      "metadata": {
        "id": "SFnhr9XVIV5I"
      },
      "source": [
        "#### 2. Train (and build and compile) the Neural Network"
      ]
    },
    {
      "cell_type": "markdown",
      "metadata": {
        "id": "m8XeUH_AIV5I"
      },
      "source": [
        "There are lots of hyperparameters here. Please read the comments to guide you in playing with them later!"
      ]
    },
    {
      "cell_type": "markdown",
      "metadata": {
        "id": "Y5a_sRxnIV5I"
      },
      "source": [
        "#### Build a very simple Neural Network & compile"
      ]
    },
    {
      "cell_type": "code",
      "execution_count": 119,
      "metadata": {
        "id": "f-dntfjrIV5I"
      },
      "outputs": [
        {
          "name": "stderr",
          "output_type": "stream",
          "text": [
            "/Users/ash/Documents/ATOC5860/.venv/lib/python3.12/site-packages/keras/src/layers/core/dense.py:87: UserWarning: Do not pass an `input_shape`/`input_dim` argument to a layer. When using Sequential models, prefer using an `Input(shape)` object as the first layer in the model instead.\n",
            "  super().__init__(activity_regularizer=activity_regularizer, **kwargs)\n"
          ]
        }
      ],
      "source": [
        "number_inputs = len(x_train_bal.columns)\n",
        "\n",
        "# create model\n",
        "nn = Sequential()\n",
        "nn.add(Dense(number_inputs, input_dim=number_inputs, activation='relu'))\n",
        "\n",
        "# Try uncommenting this to address overfitting\n",
        "# from keras.regularizers import l2\n",
        "# reg = l2(0.001)\n",
        "# nn.add(Dense(number_inputs, activation='relu',bias_regularizer=reg,activity_regularizer=reg))\n",
        "\n",
        "# try commenting out one and then the other\n",
        "nn.add(Dense(1, activation='sigmoid'))\n",
        "#nn.addDense(1, activation='softmax'))\n",
        "\n",
        "# Compile model \n",
        "# Also try changing the learning rate.\n",
        "learning_rate = 0.001 # only used in the SGD optimizer.\n",
        "\n",
        "# Also try commenting out one & then the other. \n",
        "nn.compile(loss='binary_crossentropy', optimizer='adam', metrics=['accuracy']) \n",
        "#nn.compile(loss='binary_crossentropy', optimizer=keras.optimizers.SGD(lr=learning_rate), metrics=['accuracy']) "
      ]
    },
    {
      "cell_type": "markdown",
      "metadata": {
        "id": "ltStUYTjNH_x"
      },
      "source": [
        "*Note: the `binary_crossentropy` is also called the \"Log Loss\". This is a loss function specific for predicting two classes. \n",
        "$$L_{BCE} = -\\frac{1}{n}\\sum{(Y_{i}⋅ log(\\hat{Y_{i}}) + (1-Y_{i})⋅ log(1-\\hat Y_{i})} $$, where $Y_{i}$ and $\\hat{Y_{i}}$ is the actual and the model's predicted probability of one class, respectively.*"
      ]
    },
    {
      "cell_type": "markdown",
      "metadata": {
        "id": "WokcjjSiIV5I"
      },
      "source": [
        "#### Actually training the model."
      ]
    },
    {
      "cell_type": "code",
      "execution_count": 120,
      "metadata": {
        "colab": {
          "base_uri": "https://localhost:8080/"
        },
        "id": "B9KJsrjltNTs",
        "outputId": "c72f1c9d-e568-4a29-c360-7298a5587e98"
      },
      "outputs": [
        {
          "name": "stdout",
          "output_type": "stream",
          "text": [
            "Epoch 1/100\n",
            "568/568 - 1s - 1ms/step - accuracy: 0.6765 - loss: 0.6444 - val_accuracy: 0.7703 - val_loss: 0.5867\n",
            "Epoch 2/100\n",
            "568/568 - 0s - 360us/step - accuracy: 0.7579 - loss: 0.5550 - val_accuracy: 0.7621 - val_loss: 0.5293\n",
            "Epoch 3/100\n",
            "568/568 - 0s - 358us/step - accuracy: 0.7677 - loss: 0.5150 - val_accuracy: 0.7695 - val_loss: 0.5053\n",
            "Epoch 4/100\n",
            "568/568 - 0s - 359us/step - accuracy: 0.7813 - loss: 0.4941 - val_accuracy: 0.7683 - val_loss: 0.4927\n",
            "Epoch 5/100\n",
            "568/568 - 0s - 353us/step - accuracy: 0.7852 - loss: 0.4805 - val_accuracy: 0.7774 - val_loss: 0.4870\n",
            "Epoch 6/100\n",
            "568/568 - 0s - 370us/step - accuracy: 0.7892 - loss: 0.4725 - val_accuracy: 0.7636 - val_loss: 0.4829\n",
            "Epoch 7/100\n",
            "568/568 - 0s - 364us/step - accuracy: 0.7913 - loss: 0.4657 - val_accuracy: 0.7712 - val_loss: 0.4804\n",
            "Epoch 8/100\n",
            "568/568 - 0s - 360us/step - accuracy: 0.7935 - loss: 0.4608 - val_accuracy: 0.7700 - val_loss: 0.4805\n",
            "Epoch 9/100\n",
            "568/568 - 0s - 372us/step - accuracy: 0.7960 - loss: 0.4565 - val_accuracy: 0.7780 - val_loss: 0.4779\n",
            "Epoch 10/100\n",
            "568/568 - 0s - 363us/step - accuracy: 0.7970 - loss: 0.4529 - val_accuracy: 0.7789 - val_loss: 0.4759\n",
            "Epoch 11/100\n",
            "568/568 - 0s - 382us/step - accuracy: 0.7990 - loss: 0.4500 - val_accuracy: 0.7662 - val_loss: 0.4743\n",
            "Epoch 12/100\n",
            "568/568 - 0s - 366us/step - accuracy: 0.8002 - loss: 0.4473 - val_accuracy: 0.7798 - val_loss: 0.4736\n",
            "Epoch 13/100\n",
            "568/568 - 0s - 356us/step - accuracy: 0.7996 - loss: 0.4451 - val_accuracy: 0.7677 - val_loss: 0.4729\n",
            "Epoch 14/100\n",
            "568/568 - 0s - 364us/step - accuracy: 0.8001 - loss: 0.4427 - val_accuracy: 0.7633 - val_loss: 0.4714\n",
            "Epoch 15/100\n",
            "568/568 - 0s - 406us/step - accuracy: 0.8015 - loss: 0.4409 - val_accuracy: 0.7606 - val_loss: 0.4716\n",
            "Epoch 16/100\n",
            "568/568 - 0s - 410us/step - accuracy: 0.8016 - loss: 0.4390 - val_accuracy: 0.7650 - val_loss: 0.4721\n",
            "Epoch 17/100\n",
            "568/568 - 0s - 362us/step - accuracy: 0.8015 - loss: 0.4378 - val_accuracy: 0.7659 - val_loss: 0.4698\n",
            "Epoch 18/100\n",
            "568/568 - 0s - 356us/step - accuracy: 0.8020 - loss: 0.4361 - val_accuracy: 0.7591 - val_loss: 0.4697\n",
            "Epoch 19/100\n",
            "568/568 - 0s - 487us/step - accuracy: 0.8036 - loss: 0.4343 - val_accuracy: 0.7689 - val_loss: 0.4714\n",
            "Epoch 20/100\n",
            "568/568 - 0s - 381us/step - accuracy: 0.8045 - loss: 0.4330 - val_accuracy: 0.7639 - val_loss: 0.4654\n",
            "Epoch 21/100\n",
            "568/568 - 0s - 380us/step - accuracy: 0.8048 - loss: 0.4315 - val_accuracy: 0.7721 - val_loss: 0.4682\n",
            "Epoch 22/100\n",
            "568/568 - 0s - 493us/step - accuracy: 0.8043 - loss: 0.4303 - val_accuracy: 0.7706 - val_loss: 0.4670\n",
            "Epoch 23/100\n",
            "568/568 - 0s - 467us/step - accuracy: 0.8061 - loss: 0.4285 - val_accuracy: 0.7656 - val_loss: 0.4634\n",
            "Epoch 24/100\n",
            "568/568 - 0s - 476us/step - accuracy: 0.8074 - loss: 0.4271 - val_accuracy: 0.7668 - val_loss: 0.4591\n",
            "Epoch 25/100\n",
            "568/568 - 0s - 410us/step - accuracy: 0.8072 - loss: 0.4257 - val_accuracy: 0.7618 - val_loss: 0.4591\n",
            "Epoch 26/100\n",
            "568/568 - 0s - 484us/step - accuracy: 0.8084 - loss: 0.4249 - val_accuracy: 0.7597 - val_loss: 0.4576\n",
            "Epoch 27/100\n",
            "568/568 - 0s - 378us/step - accuracy: 0.8081 - loss: 0.4237 - val_accuracy: 0.7733 - val_loss: 0.4556\n",
            "Epoch 28/100\n",
            "568/568 - 0s - 417us/step - accuracy: 0.8078 - loss: 0.4226 - val_accuracy: 0.7650 - val_loss: 0.4553\n",
            "Epoch 29/100\n",
            "568/568 - 0s - 392us/step - accuracy: 0.8072 - loss: 0.4221 - val_accuracy: 0.7642 - val_loss: 0.4569\n",
            "Epoch 30/100\n",
            "568/568 - 0s - 474us/step - accuracy: 0.8087 - loss: 0.4209 - val_accuracy: 0.7727 - val_loss: 0.4541\n",
            "Epoch 31/100\n",
            "568/568 - 0s - 387us/step - accuracy: 0.8078 - loss: 0.4200 - val_accuracy: 0.7686 - val_loss: 0.4572\n",
            "Epoch 32/100\n",
            "568/568 - 0s - 366us/step - accuracy: 0.8095 - loss: 0.4195 - val_accuracy: 0.7591 - val_loss: 0.4551\n",
            "Epoch 33/100\n",
            "568/568 - 0s - 369us/step - accuracy: 0.8109 - loss: 0.4183 - val_accuracy: 0.7633 - val_loss: 0.4562\n",
            "Epoch 34/100\n",
            "568/568 - 0s - 412us/step - accuracy: 0.8129 - loss: 0.4177 - val_accuracy: 0.7656 - val_loss: 0.4573\n",
            "Epoch 35/100\n",
            "568/568 - 0s - 367us/step - accuracy: 0.8151 - loss: 0.4174 - val_accuracy: 0.7609 - val_loss: 0.4548\n",
            "Epoch 36/100\n",
            "568/568 - 0s - 371us/step - accuracy: 0.8140 - loss: 0.4167 - val_accuracy: 0.7594 - val_loss: 0.4543\n",
            "Epoch 37/100\n",
            "568/568 - 0s - 363us/step - accuracy: 0.8131 - loss: 0.4164 - val_accuracy: 0.7597 - val_loss: 0.4538\n",
            "Epoch 38/100\n",
            "568/568 - 0s - 359us/step - accuracy: 0.8141 - loss: 0.4157 - val_accuracy: 0.7597 - val_loss: 0.4546\n",
            "Epoch 39/100\n",
            "568/568 - 0s - 367us/step - accuracy: 0.8140 - loss: 0.4152 - val_accuracy: 0.7653 - val_loss: 0.4572\n",
            "Epoch 40/100\n",
            "568/568 - 0s - 368us/step - accuracy: 0.8160 - loss: 0.4147 - val_accuracy: 0.7559 - val_loss: 0.4543\n",
            "Epoch 41/100\n",
            "568/568 - 0s - 363us/step - accuracy: 0.8144 - loss: 0.4148 - val_accuracy: 0.7565 - val_loss: 0.4551\n",
            "Epoch 42/100\n",
            "568/568 - 0s - 355us/step - accuracy: 0.8157 - loss: 0.4140 - val_accuracy: 0.7580 - val_loss: 0.4550\n",
            "Epoch 43/100\n",
            "568/568 - 0s - 363us/step - accuracy: 0.8162 - loss: 0.4136 - val_accuracy: 0.7647 - val_loss: 0.4573\n",
            "Epoch 44/100\n",
            "568/568 - 0s - 375us/step - accuracy: 0.8155 - loss: 0.4133 - val_accuracy: 0.7624 - val_loss: 0.4563\n",
            "Epoch 45/100\n",
            "568/568 - 0s - 365us/step - accuracy: 0.8160 - loss: 0.4127 - val_accuracy: 0.7577 - val_loss: 0.4553\n",
            "Epoch 46/100\n",
            "568/568 - 0s - 373us/step - accuracy: 0.8154 - loss: 0.4124 - val_accuracy: 0.7618 - val_loss: 0.4569\n",
            "Epoch 47/100\n",
            "568/568 - 0s - 364us/step - accuracy: 0.8145 - loss: 0.4122 - val_accuracy: 0.7606 - val_loss: 0.4557\n",
            "Epoch 48/100\n",
            "568/568 - 0s - 360us/step - accuracy: 0.8150 - loss: 0.4118 - val_accuracy: 0.7609 - val_loss: 0.4566\n",
            "Epoch 49/100\n",
            "568/568 - 0s - 372us/step - accuracy: 0.8141 - loss: 0.4114 - val_accuracy: 0.7680 - val_loss: 0.4605\n",
            "Epoch 50/100\n",
            "568/568 - 0s - 365us/step - accuracy: 0.8148 - loss: 0.4110 - val_accuracy: 0.7677 - val_loss: 0.4610\n",
            "Epoch 51/100\n",
            "568/568 - 0s - 536us/step - accuracy: 0.8146 - loss: 0.4109 - val_accuracy: 0.7603 - val_loss: 0.4598\n",
            "Epoch 52/100\n",
            "568/568 - 0s - 360us/step - accuracy: 0.8157 - loss: 0.4108 - val_accuracy: 0.7591 - val_loss: 0.4569\n",
            "Epoch 53/100\n",
            "568/568 - 0s - 361us/step - accuracy: 0.8155 - loss: 0.4103 - val_accuracy: 0.7538 - val_loss: 0.4563\n",
            "Epoch 54/100\n",
            "568/568 - 0s - 361us/step - accuracy: 0.8139 - loss: 0.4101 - val_accuracy: 0.7639 - val_loss: 0.4584\n",
            "Epoch 55/100\n",
            "568/568 - 0s - 369us/step - accuracy: 0.8157 - loss: 0.4099 - val_accuracy: 0.7580 - val_loss: 0.4573\n",
            "Epoch 56/100\n",
            "568/568 - 0s - 430us/step - accuracy: 0.8166 - loss: 0.4098 - val_accuracy: 0.7627 - val_loss: 0.4602\n",
            "Epoch 57/100\n",
            "568/568 - 0s - 362us/step - accuracy: 0.8141 - loss: 0.4098 - val_accuracy: 0.7624 - val_loss: 0.4571\n",
            "Epoch 58/100\n",
            "568/568 - 0s - 369us/step - accuracy: 0.8142 - loss: 0.4093 - val_accuracy: 0.7633 - val_loss: 0.4640\n",
            "Epoch 59/100\n",
            "568/568 - 0s - 357us/step - accuracy: 0.8134 - loss: 0.4093 - val_accuracy: 0.7624 - val_loss: 0.4604\n",
            "Epoch 60/100\n",
            "568/568 - 0s - 351us/step - accuracy: 0.8137 - loss: 0.4091 - val_accuracy: 0.7544 - val_loss: 0.4589\n",
            "Epoch 61/100\n",
            "568/568 - 0s - 354us/step - accuracy: 0.8140 - loss: 0.4084 - val_accuracy: 0.7630 - val_loss: 0.4588\n",
            "Epoch 62/100\n",
            "568/568 - 0s - 368us/step - accuracy: 0.8140 - loss: 0.4084 - val_accuracy: 0.7527 - val_loss: 0.4595\n",
            "Epoch 63/100\n",
            "568/568 - 0s - 363us/step - accuracy: 0.8134 - loss: 0.4080 - val_accuracy: 0.7597 - val_loss: 0.4598\n",
            "Epoch 64/100\n",
            "568/568 - 0s - 358us/step - accuracy: 0.8141 - loss: 0.4080 - val_accuracy: 0.7553 - val_loss: 0.4596\n",
            "Epoch 65/100\n",
            "568/568 - 0s - 357us/step - accuracy: 0.8129 - loss: 0.4078 - val_accuracy: 0.7529 - val_loss: 0.4614\n",
            "Epoch 66/100\n",
            "568/568 - 0s - 367us/step - accuracy: 0.8126 - loss: 0.4073 - val_accuracy: 0.7577 - val_loss: 0.4609\n",
            "Epoch 67/100\n",
            "568/568 - 0s - 363us/step - accuracy: 0.8144 - loss: 0.4075 - val_accuracy: 0.7591 - val_loss: 0.4619\n",
            "Epoch 68/100\n",
            "568/568 - 0s - 379us/step - accuracy: 0.8138 - loss: 0.4073 - val_accuracy: 0.7512 - val_loss: 0.4611\n",
            "Epoch 69/100\n",
            "568/568 - 0s - 359us/step - accuracy: 0.8135 - loss: 0.4072 - val_accuracy: 0.7574 - val_loss: 0.4632\n",
            "Epoch 70/100\n",
            "568/568 - 0s - 367us/step - accuracy: 0.8132 - loss: 0.4070 - val_accuracy: 0.7583 - val_loss: 0.4638\n",
            "Epoch 71/100\n",
            "568/568 - 0s - 365us/step - accuracy: 0.8132 - loss: 0.4066 - val_accuracy: 0.7612 - val_loss: 0.4662\n",
            "Epoch 72/100\n",
            "568/568 - 0s - 370us/step - accuracy: 0.8134 - loss: 0.4067 - val_accuracy: 0.7636 - val_loss: 0.4662\n",
            "Epoch 73/100\n",
            "568/568 - 0s - 377us/step - accuracy: 0.8148 - loss: 0.4063 - val_accuracy: 0.7580 - val_loss: 0.4646\n",
            "Epoch 74/100\n",
            "568/568 - 0s - 358us/step - accuracy: 0.8144 - loss: 0.4060 - val_accuracy: 0.7535 - val_loss: 0.4631\n",
            "Epoch 75/100\n",
            "568/568 - 0s - 370us/step - accuracy: 0.8120 - loss: 0.4063 - val_accuracy: 0.7674 - val_loss: 0.4681\n",
            "Epoch 76/100\n",
            "568/568 - 0s - 347us/step - accuracy: 0.8144 - loss: 0.4062 - val_accuracy: 0.7594 - val_loss: 0.4664\n",
            "Epoch 77/100\n",
            "568/568 - 0s - 365us/step - accuracy: 0.8142 - loss: 0.4061 - val_accuracy: 0.7512 - val_loss: 0.4636\n",
            "Epoch 78/100\n",
            "568/568 - 0s - 378us/step - accuracy: 0.8137 - loss: 0.4059 - val_accuracy: 0.7488 - val_loss: 0.4641\n",
            "Epoch 79/100\n",
            "568/568 - 0s - 377us/step - accuracy: 0.8126 - loss: 0.4057 - val_accuracy: 0.7600 - val_loss: 0.4664\n",
            "Epoch 80/100\n",
            "568/568 - 0s - 358us/step - accuracy: 0.8140 - loss: 0.4057 - val_accuracy: 0.7692 - val_loss: 0.4691\n",
            "Epoch 81/100\n",
            "568/568 - 0s - 360us/step - accuracy: 0.8135 - loss: 0.4055 - val_accuracy: 0.7606 - val_loss: 0.4664\n",
            "Epoch 82/100\n",
            "568/568 - 0s - 358us/step - accuracy: 0.8148 - loss: 0.4051 - val_accuracy: 0.7515 - val_loss: 0.4651\n",
            "Epoch 83/100\n",
            "568/568 - 0s - 347us/step - accuracy: 0.8139 - loss: 0.4049 - val_accuracy: 0.7585 - val_loss: 0.4674\n",
            "Epoch 84/100\n",
            "568/568 - 0s - 344us/step - accuracy: 0.8150 - loss: 0.4049 - val_accuracy: 0.7615 - val_loss: 0.4690\n",
            "Epoch 85/100\n",
            "568/568 - 0s - 358us/step - accuracy: 0.8145 - loss: 0.4044 - val_accuracy: 0.7603 - val_loss: 0.4658\n",
            "Epoch 86/100\n",
            "568/568 - 0s - 366us/step - accuracy: 0.8153 - loss: 0.4048 - val_accuracy: 0.7574 - val_loss: 0.4657\n",
            "Epoch 87/100\n",
            "568/568 - 0s - 350us/step - accuracy: 0.8142 - loss: 0.4046 - val_accuracy: 0.7535 - val_loss: 0.4664\n",
            "Epoch 88/100\n",
            "568/568 - 0s - 365us/step - accuracy: 0.8155 - loss: 0.4042 - val_accuracy: 0.7571 - val_loss: 0.4661\n",
            "Epoch 89/100\n",
            "568/568 - 0s - 350us/step - accuracy: 0.8130 - loss: 0.4044 - val_accuracy: 0.7547 - val_loss: 0.4664\n",
            "Epoch 90/100\n",
            "568/568 - 0s - 358us/step - accuracy: 0.8143 - loss: 0.4042 - val_accuracy: 0.7665 - val_loss: 0.4722\n",
            "Epoch 91/100\n",
            "568/568 - 0s - 359us/step - accuracy: 0.8157 - loss: 0.4040 - val_accuracy: 0.7583 - val_loss: 0.4676\n",
            "Epoch 92/100\n",
            "568/568 - 0s - 374us/step - accuracy: 0.8146 - loss: 0.4039 - val_accuracy: 0.7612 - val_loss: 0.4706\n",
            "Epoch 93/100\n",
            "568/568 - 0s - 349us/step - accuracy: 0.8156 - loss: 0.4036 - val_accuracy: 0.7609 - val_loss: 0.4684\n",
            "Epoch 94/100\n",
            "568/568 - 0s - 365us/step - accuracy: 0.8169 - loss: 0.4038 - val_accuracy: 0.7689 - val_loss: 0.4749\n",
            "Epoch 95/100\n",
            "568/568 - 0s - 348us/step - accuracy: 0.8148 - loss: 0.4038 - val_accuracy: 0.7482 - val_loss: 0.4747\n",
            "Epoch 96/100\n",
            "568/568 - 0s - 416us/step - accuracy: 0.8160 - loss: 0.4039 - val_accuracy: 0.7556 - val_loss: 0.4711\n",
            "Epoch 97/100\n",
            "568/568 - 0s - 364us/step - accuracy: 0.8152 - loss: 0.4034 - val_accuracy: 0.7644 - val_loss: 0.4710\n",
            "Epoch 98/100\n",
            "568/568 - 0s - 357us/step - accuracy: 0.8145 - loss: 0.4035 - val_accuracy: 0.7565 - val_loss: 0.4775\n",
            "Epoch 99/100\n",
            "568/568 - 0s - 358us/step - accuracy: 0.8166 - loss: 0.4033 - val_accuracy: 0.7677 - val_loss: 0.4765\n",
            "Epoch 100/100\n",
            "568/568 - 0s - 346us/step - accuracy: 0.8174 - loss: 0.4036 - val_accuracy: 0.7550 - val_loss: 0.4731\n",
            "Neural Network took 21.9449679851532 seconds to train.\n"
          ]
        }
      ],
      "source": [
        "batch_size = 24 # The number of samples the network sees before it backpropagates (batch size) # 24 & 32 yield accuracy = 87%\n",
        "epochs = 100 # The number of times the network will loop through the entire dataset (epochs)\n",
        "shuffle = True # Set whether to shuffle the training data so the model doesn't see it sequentially \n",
        "verbose = 2 # Set whether the model will output information when trained (0 = no output; 2 = output accuracy every epoch)\n",
        "\n",
        "# Train the neural network!\n",
        "start = time.time()\n",
        "\n",
        "history = nn.fit(x_train_bal, y_train_bal, validation_data=(x_test_bal, y_test_bal), \n",
        "          batch_size=batch_size, epochs=epochs, shuffle=shuffle, verbose=verbose)\n",
        "\n",
        "end = time.time()\n",
        "print(\"Neural Network took \"+str(end-start)+\" seconds to train.\")"
      ]
    },
    {
      "cell_type": "markdown",
      "metadata": {
        "id": "ZIRXvLr7IV5I"
      },
      "source": [
        "#### Accuracy & loss with epochs\n",
        "Neural networks train in __epochs__. During each epoch, the model trains by sweeping over each layer, adjusting weights based on their resulting errors, through processes called __forward propagation__ and __backpropagation__. By plotting the model accuracy & loss which each epoch, we can visualize how the model error evolves with training."
      ]
    },
    {
      "cell_type": "code",
      "execution_count": 121,
      "metadata": {
        "colab": {
          "base_uri": "https://localhost:8080/",
          "height": 470
        },
        "id": "xF9OWn5vIV5J",
        "outputId": "35323ae9-4433-475e-dfe3-ed49db6bd6e5"
      },
      "outputs": [
        {
          "data": {
            "image/png": "[encoded data removed]",
            "text/plain": [
              "<Figure size 640x480 with 2 Axes>"
            ]
          },
          "metadata": {},
          "output_type": "display_data"
        }
      ],
      "source": [
        "figure, axes = plt.subplots(nrows=2,ncols=1)\n",
        "figure.tight_layout(pad=3.0)\n",
        "\n",
        "# plot accuracy during training\n",
        "plt.subplot(211)\n",
        "plt.title('Accuracy')\n",
        "plt.plot(history.history['accuracy'], label='train')\n",
        "plt.plot(history.history['val_accuracy'], label='test')\n",
        "plt.legend();\n",
        "\n",
        "# plot loss during training\n",
        "plt.subplot(212)\n",
        "plt.title('Loss')\n",
        "plt.plot(history.history['loss'], label='train')\n",
        "plt.plot(history.history['val_loss'], label='test')\n",
        "plt.xlabel(\"Epoch\");\n",
        "plt.legend()\n",
        "plt.show();"
      ]
    },
    {
      "cell_type": "markdown",
      "metadata": {
        "id": "Vsp6So4rIV5J"
      },
      "source": [
        "#### 3. Assess Neural Network's performance using testing data"
      ]
    },
    {
      "cell_type": "markdown",
      "metadata": {
        "id": "qN1iP-1QIV5J"
      },
      "source": [
        "Though the accuracy is pictured above, additionally quantify recall on testing data with the same functions used previously to remain consistent"
      ]
    },
    {
      "cell_type": "code",
      "execution_count": 122,
      "metadata": {
        "colab": {
          "base_uri": "https://localhost:8080/",
          "height": 501
        },
        "id": "jdws43tQIV5J",
        "outputId": "766f4334-9609-454e-c8d7-4e7f0d2d8de1"
      },
      "outputs": [
        {
          "name": "stdout",
          "output_type": "stream",
          "text": [
            "\u001b[1m106/106\u001b[0m \u001b[32m━━━━━━━━━━━━━━━━━━━━\u001b[0m\u001b[37m\u001b[0m \u001b[1m0s\u001b[0m 295us/step\n",
            "Accuracy: 0.755\n",
            "Recall: 0.7229\n"
          ]
        },
        {
          "data": {
            "image/png": "[encoded data removed]",
            "text/plain": [
              "<Figure size 640x480 with 2 Axes>"
            ]
          },
          "metadata": {},
          "output_type": "display_data"
        }
      ],
      "source": [
        "pred_test= (nn.predict(x_test_bal)>0.5).astype(\"int32\")\n",
        "nn_acc, nn_rec = bin_metrics(y_test_bal, pred_test)\n",
        "plot_cm(y_test_bal, pred_test)"
      ]
    },
    {
      "cell_type": "markdown",
      "metadata": {
        "id": "NiEeD7PrIV5J"
      },
      "source": [
        "#### 4. Check to see if the Neural Network is overfitting"
      ]
    },
    {
      "cell_type": "code",
      "execution_count": 123,
      "metadata": {
        "colab": {
          "base_uri": "https://localhost:8080/"
        },
        "id": "X0fpB02JIV5J",
        "outputId": "7d3b49f8-f7a0-4b84-d3f9-4edb09f61b2f"
      },
      "outputs": [
        {
          "name": "stdout",
          "output_type": "stream",
          "text": [
            "Training metrics:\n",
            "\u001b[1m426/426\u001b[0m \u001b[32m━━━━━━━━━━━━━━━━━━━━\u001b[0m\u001b[37m\u001b[0m \u001b[1m0s\u001b[0m 270us/step\n",
            "Accuracy: 0.8127\n",
            "Recall: 0.8348\n",
            " \n",
            "Testing metrics:\n",
            "Accuracy: 0.755\n",
            "Recall: 0.7229\n"
          ]
        }
      ],
      "source": [
        "# Compare testing data metrics to data training metrics.\n",
        "print(\"Training metrics:\")\n",
        "nn_pred_train= (nn.predict(x_train_bal)>0.5).astype(\"int32\")\n",
        "bin_metrics(y_train_bal,nn_pred_train);\n",
        "\n",
        "# As a reminder, display testing metrics:\n",
        "print(\" \")\n",
        "print(\"Testing metrics:\")\n",
        "bin_metrics(y_test_bal, pred_test);"
      ]
    },
    {
      "cell_type": "markdown",
      "metadata": {
        "id": "4HlhM-jeIV5J"
      },
      "source": [
        "Neural networks can easily overfit because they are very complex and can fit to the training data extremely well,  which prevents them from generalizing to other data (like the testing data). "
      ]
    },
    {
      "cell_type": "markdown",
      "metadata": {
        "id": "QvwMPHH6IV5J"
      },
      "source": [
        "#### 5. Make a prediction with the Neural Network"
      ]
    },
    {
      "cell_type": "code",
      "execution_count": 124,
      "metadata": {
        "colab": {
          "base_uri": "https://localhost:8080/"
        },
        "id": "EvjRyCL2IV5J",
        "outputId": "f46b834e-855d-4db1-eb88-a38835ff219f"
      },
      "outputs": [
        {
          "name": "stdout",
          "output_type": "stream",
          "text": [
            "\u001b[1m1/1\u001b[0m \u001b[32m━━━━━━━━━━━━━━━━━━━━\u001b[0m\u001b[37m\u001b[0m \u001b[1m0s\u001b[0m 12ms/step\n",
            "The meteorological conditions are: \n",
            "day             42552.000000\n",
            "hour                0.666667\n",
            "temp_F             71.600000\n",
            "RH                 75.700000\n",
            "dewtemp_F          63.500000\n",
            "wind_mph            6.000000\n",
            "wind_dir          261.000000\n",
            "windgust           13.600000\n",
            "windgust_dir      270.000000\n",
            "pres_Hg           841.500000\n",
            "SOLIN_Wm2         112.800000\n",
            "Prec_inches         0.010000\n",
            "prec_occur          1.000000\n",
            "Name: 4384, dtype: float64\n",
            "There is a 91.66% chance of precipitation given those meteorological conditions.\n"
          ]
        }
      ],
      "source": [
        "# prediction output is in the format [probability no rain, probability rain]\n",
        "nn_prediction = nn.predict(np.array(testpredictor).reshape(1, -1))[0][0]*100\n",
        "print(\"The meteorological conditions are: \")\n",
        "print(origvals)\n",
        "print(\"There is a {0:.{digits}f}% chance of precipitation given those meteorological conditions.\".format(nn_prediction, digits=2))"
      ]
    },
    {
      "cell_type": "markdown",
      "metadata": {
        "id": "BbeXydz-IV5K"
      },
      "source": [
        "*Interesting... How does the Neural Network's estimate of %chance precip compare to that of the other models? See below for final intermodel comparison.*"
      ]
    },
    {
      "cell_type": "markdown",
      "metadata": {
        "id": "9x9ZXeU9IV5K"
      },
      "source": [
        "<br><br>"
      ]
    },
    {
      "cell_type": "markdown",
      "metadata": {
        "id": "1mqIMn6nIV5K"
      },
      "source": [
        "---------------------------------------------"
      ]
    },
    {
      "cell_type": "markdown",
      "metadata": {
        "id": "y--hxNdPIV5K"
      },
      "source": [
        "# Final intermodel comparison"
      ]
    },
    {
      "cell_type": "code",
      "execution_count": 125,
      "metadata": {
        "colab": {
          "base_uri": "https://localhost:8080/",
          "height": 175
        },
        "id": "I0uA5ZBHIV5K",
        "outputId": "49206ad1-3987-41dc-90ef-1a85fbdbefae"
      },
      "outputs": [
        {
          "data": {
            "text/html": [
              "<div>\n",
              "<style scoped>\n",
              "    .dataframe tbody tr th:only-of-type {\n",
              "        vertical-align: middle;\n",
              "    }\n",
              "\n",
              "    .dataframe tbody tr th {\n",
              "        vertical-align: top;\n",
              "    }\n",
              "\n",
              "    .dataframe thead th {\n",
              "        text-align: right;\n",
              "    }\n",
              "</style>\n",
              "<table border=\"1\" class=\"dataframe\">\n",
              "  <thead>\n",
              "    <tr style=\"text-align: right;\">\n",
              "      <th></th>\n",
              "      <th>Logistic Regression</th>\n",
              "      <th>Random Forest</th>\n",
              "      <th>Neural Network</th>\n",
              "    </tr>\n",
              "    <tr>\n",
              "      <th>Metrics</th>\n",
              "      <th></th>\n",
              "      <th></th>\n",
              "      <th></th>\n",
              "    </tr>\n",
              "  </thead>\n",
              "  <tbody>\n",
              "    <tr>\n",
              "      <th>Accuracy</th>\n",
              "      <td>0.772406</td>\n",
              "      <td>0.772995</td>\n",
              "      <td>0.755012</td>\n",
              "    </tr>\n",
              "    <tr>\n",
              "      <th>Recall</th>\n",
              "      <td>0.774764</td>\n",
              "      <td>0.701061</td>\n",
              "      <td>0.722877</td>\n",
              "    </tr>\n",
              "    <tr>\n",
              "      <th>Prediction example</th>\n",
              "      <td>89.681783</td>\n",
              "      <td>62.098968</td>\n",
              "      <td>91.659677</td>\n",
              "    </tr>\n",
              "  </tbody>\n",
              "</table>\n",
              "</div>"
            ],
            "text/plain": [
              "                    Logistic Regression  Random Forest  Neural Network\n",
              "Metrics                                                               \n",
              "Accuracy                       0.772406       0.772995        0.755012\n",
              "Recall                         0.774764       0.701061        0.722877\n",
              "Prediction example            89.681783      62.098968       91.659677"
            ]
          },
          "execution_count": 125,
          "metadata": {},
          "output_type": "execute_result"
        }
      ],
      "source": [
        "model_metrics = pd.DataFrame({'Metrics':['Accuracy','Recall','Prediction example'],\n",
        "    'Logistic Regression':[lr_acc, lr_rec, lr_prediction],\n",
        "    'Random Forest':[forest_acc, forest_rec, forest_prediction],\n",
        "    'Neural Network':[nn_acc, nn_rec, nn_prediction]})\n",
        "model_metrics = model_metrics.set_index('Metrics')\n",
        "model_metrics"
      ]
    },
    {
      "cell_type": "markdown",
      "metadata": {
        "id": "NH85_804IV5K"
      },
      "source": [
        "<br><br>"
      ]
    },
    {
      "cell_type": "markdown",
      "metadata": {
        "id": "32-_q9y8IV5K"
      },
      "source": [
        "---------------------------------------------"
      ]
    },
    {
      "cell_type": "markdown",
      "metadata": {
        "id": "XIalmxJiIV5K"
      },
      "source": [
        "# Feature Importance"
      ]
    },
    {
      "cell_type": "markdown",
      "metadata": {
        "id": "8tBTst1_IV5K"
      },
      "source": [
        "The code below shows the way one would identify the most important features in each model, i.e., the best predictors of rainfall. The code looks a little different from model to model."
      ]
    },
    {
      "cell_type": "code",
      "execution_count": 126,
      "metadata": {
        "id": "YRN5ORkGIV5K"
      },
      "outputs": [],
      "source": [
        "# If you want to look at the pre-scaled data used in the models, uncomment the line below\n",
        "#x"
      ]
    },
    {
      "cell_type": "markdown",
      "metadata": {
        "id": "Z7f2SHGGIV5K"
      },
      "source": [
        "#### Feature Importance in Logistic Regression:"
      ]
    },
    {
      "cell_type": "markdown",
      "metadata": {
        "id": "OMCCxOUpTkxH"
      },
      "source": [
        "Luckily, feature importance in linear models is usually quite easy to obtain. "
      ]
    },
    {
      "cell_type": "code",
      "execution_count": 127,
      "metadata": {
        "colab": {
          "base_uri": "https://localhost:8080/",
          "height": 332
        },
        "id": "x6vpbLsTIV5L",
        "outputId": "5997e302-3c78-41bf-ce04-7fc3695216ae"
      },
      "outputs": [
        {
          "data": {
            "text/html": [
              "<div>\n",
              "<style scoped>\n",
              "    .dataframe tbody tr th:only-of-type {\n",
              "        vertical-align: middle;\n",
              "    }\n",
              "\n",
              "    .dataframe tbody tr th {\n",
              "        vertical-align: top;\n",
              "    }\n",
              "\n",
              "    .dataframe thead th {\n",
              "        text-align: right;\n",
              "    }\n",
              "</style>\n",
              "<table border=\"1\" class=\"dataframe\">\n",
              "  <thead>\n",
              "    <tr style=\"text-align: right;\">\n",
              "      <th></th>\n",
              "      <th>importance</th>\n",
              "    </tr>\n",
              "  </thead>\n",
              "  <tbody>\n",
              "    <tr>\n",
              "      <th>RH</th>\n",
              "      <td>7.549086</td>\n",
              "    </tr>\n",
              "    <tr>\n",
              "      <th>temp_F</th>\n",
              "      <td>3.434209</td>\n",
              "    </tr>\n",
              "    <tr>\n",
              "      <th>pres_Hg</th>\n",
              "      <td>2.370421</td>\n",
              "    </tr>\n",
              "    <tr>\n",
              "      <th>SOLIN_Wm2</th>\n",
              "      <td>1.386737</td>\n",
              "    </tr>\n",
              "    <tr>\n",
              "      <th>dewtemp_F</th>\n",
              "      <td>0.859185</td>\n",
              "    </tr>\n",
              "  </tbody>\n",
              "</table>\n",
              "</div>"
            ],
            "text/plain": [
              "           importance\n",
              "RH           7.549086\n",
              "temp_F       3.434209\n",
              "pres_Hg      2.370421\n",
              "SOLIN_Wm2    1.386737\n",
              "dewtemp_F    0.859185"
            ]
          },
          "execution_count": 127,
          "metadata": {},
          "output_type": "execute_result"
        }
      ],
      "source": [
        "pd.DataFrame(abs(lr.coef_[0]),\n",
        "             index = x.columns,\n",
        "             columns=['importance']).sort_values('importance',ascending=False)"
      ]
    },
    {
      "cell_type": "markdown",
      "metadata": {
        "id": "uavgPQ2lIV5L"
      },
      "source": [
        "#### Finding most important features in a Random Forest model"
      ]
    },
    {
      "cell_type": "markdown",
      "metadata": {
        "id": "yA5i420aRQD-"
      },
      "source": [
        "There are a number of different ways to calculate feature importance in tree-based algorithms. We are using the default feature importance algorithm here found in the Random Forest package, which are **Gini importance**. In some instances, [Gini Importance can falseley put too much importance on some features if the model is overfitting](https://scikit-learn.org/stable/auto_examples/inspection/plot_permutation_importance.html). Some find that **permutation importance** or, better yet, [**SHAP values**](https://shap.readthedocs.io/en/latest/example_notebooks/overviews/An%20introduction%20to%20explainable%20AI%20with%20Shapley%20values.html) are a more robust way to derive feature importances (albeit more costly and perhaps a little more difficult to understand). <br><br>\n",
        "*Side note: the site linked above that documents the python package for calculating SHAP values [provides a nice warning](https://shap.readthedocs.io/en/latest/example_notebooks/overviews/Be%20careful%20when%20interpreting%20predictive%20models%20in%20search%20of%20causal%C2%A0insights.html) about overinterpreting the results of feature importance!*"
      ]
    },
    {
      "cell_type": "code",
      "execution_count": 128,
      "metadata": {
        "colab": {
          "base_uri": "https://localhost:8080/",
          "height": 332
        },
        "id": "t2m2Y3NJIV5L",
        "outputId": "881367de-9213-46a1-f511-c7e6ce4543d1"
      },
      "outputs": [
        {
          "data": {
            "text/html": [
              "<div>\n",
              "<style scoped>\n",
              "    .dataframe tbody tr th:only-of-type {\n",
              "        vertical-align: middle;\n",
              "    }\n",
              "\n",
              "    .dataframe tbody tr th {\n",
              "        vertical-align: top;\n",
              "    }\n",
              "\n",
              "    .dataframe thead th {\n",
              "        text-align: right;\n",
              "    }\n",
              "</style>\n",
              "<table border=\"1\" class=\"dataframe\">\n",
              "  <thead>\n",
              "    <tr style=\"text-align: right;\">\n",
              "      <th></th>\n",
              "      <th>importance</th>\n",
              "    </tr>\n",
              "  </thead>\n",
              "  <tbody>\n",
              "    <tr>\n",
              "      <th>RH</th>\n",
              "      <td>0.510684</td>\n",
              "    </tr>\n",
              "    <tr>\n",
              "      <th>temp_F</th>\n",
              "      <td>0.216557</td>\n",
              "    </tr>\n",
              "    <tr>\n",
              "      <th>dewtemp_F</th>\n",
              "      <td>0.203479</td>\n",
              "    </tr>\n",
              "    <tr>\n",
              "      <th>SOLIN_Wm2</th>\n",
              "      <td>0.062481</td>\n",
              "    </tr>\n",
              "    <tr>\n",
              "      <th>pres_Hg</th>\n",
              "      <td>0.006798</td>\n",
              "    </tr>\n",
              "  </tbody>\n",
              "</table>\n",
              "</div>"
            ],
            "text/plain": [
              "           importance\n",
              "RH           0.510684\n",
              "temp_F       0.216557\n",
              "dewtemp_F    0.203479\n",
              "SOLIN_Wm2    0.062481\n",
              "pres_Hg      0.006798"
            ]
          },
          "execution_count": 128,
          "metadata": {},
          "output_type": "execute_result"
        }
      ],
      "source": [
        "pd.DataFrame(forest.feature_importances_,\n",
        "                                   index = x.columns, \n",
        "                                   columns=['importance']).sort_values('importance', ascending=False)"
      ]
    },
    {
      "cell_type": "markdown",
      "metadata": {
        "id": "MBCrLvOcIV5L"
      },
      "source": [
        "#### Neural Network feature importance"
      ]
    },
    {
      "cell_type": "markdown",
      "metadata": {
        "id": "_t4hSM_RTtKl"
      },
      "source": [
        "Feature importance from Neural Nets is not so straightforward. The approach implemented below makes a prediction for each feature - setting each feature to equal 1 and the rest to 0, and repeating fo reach feature. "
      ]
    },
    {
      "cell_type": "code",
      "execution_count": 129,
      "metadata": {
        "colab": {
          "base_uri": "https://localhost:8080/"
        },
        "id": "ki7egQHkUWtw",
        "outputId": "8a64b2f1-b35b-4dd9-f9d4-0f7e02cb6396"
      },
      "outputs": [
        {
          "data": {
            "text/plain": [
              "0        7.0\n",
              "1        5.4\n",
              "2        6.4\n",
              "3        3.0\n",
              "4        3.7\n",
              "        ... \n",
              "8779    22.3\n",
              "8780    20.3\n",
              "8781    19.9\n",
              "8782    17.8\n",
              "8783    16.3\n",
              "Name: temp_F, Length: 8784, dtype: float64"
            ]
          },
          "execution_count": 129,
          "metadata": {},
          "output_type": "execute_result"
        }
      ],
      "source": [
        "df['temp_F']"
      ]
    },
    {
      "cell_type": "code",
      "execution_count": 130,
      "metadata": {
        "colab": {
          "base_uri": "https://localhost:8080/"
        },
        "id": "bBiDtqdhIV5L",
        "outputId": "d0e26e80-3610-4896-e400-67e4439567ab"
      },
      "outputs": [
        {
          "name": "stdout",
          "output_type": "stream",
          "text": [
            "\u001b[1m1/1\u001b[0m \u001b[32m━━━━━━━━━━━━━━━━━━━━\u001b[0m\u001b[37m\u001b[0m \u001b[1m0s\u001b[0m 20ms/step\n",
            "\u001b[1m1/1\u001b[0m \u001b[32m━━━━━━━━━━━━━━━━━━━━\u001b[0m\u001b[37m\u001b[0m \u001b[1m0s\u001b[0m 8ms/step\n",
            "\u001b[1m1/1\u001b[0m \u001b[32m━━━━━━━━━━━━━━━━━━━━\u001b[0m\u001b[37m\u001b[0m \u001b[1m0s\u001b[0m 8ms/step\n",
            "\u001b[1m1/1\u001b[0m \u001b[32m━━━━━━━━━━━━━━━━━━━━\u001b[0m\u001b[37m\u001b[0m \u001b[1m0s\u001b[0m 8ms/step\n",
            "\u001b[1m1/1\u001b[0m \u001b[32m━━━━━━━━━━━━━━━━━━━━\u001b[0m\u001b[37m\u001b[0m \u001b[1m0s\u001b[0m 8ms/step\n"
          ]
        }
      ],
      "source": [
        "cols = x.columns.values\n",
        "nn_featimportance = []\n",
        "for var in cols:\n",
        "    # create a vector corresponding to a 1 where the feature is located:\n",
        "    inputvector = np.array((cols==var).astype(int).reshape(1, -1))\n",
        "    nn_featimportance.append(nn.predict(inputvector)[0][0]*100)"
      ]
    },
    {
      "cell_type": "code",
      "execution_count": 131,
      "metadata": {
        "colab": {
          "base_uri": "https://localhost:8080/",
          "height": 332
        },
        "id": "dp66cpb1IV5L",
        "outputId": "8ccb270e-7a06-4ec3-c1cf-d61b243cd488"
      },
      "outputs": [
        {
          "data": {
            "text/html": [
              "<div>\n",
              "<style scoped>\n",
              "    .dataframe tbody tr th:only-of-type {\n",
              "        vertical-align: middle;\n",
              "    }\n",
              "\n",
              "    .dataframe tbody tr th {\n",
              "        vertical-align: top;\n",
              "    }\n",
              "\n",
              "    .dataframe thead th {\n",
              "        text-align: right;\n",
              "    }\n",
              "</style>\n",
              "<table border=\"1\" class=\"dataframe\">\n",
              "  <thead>\n",
              "    <tr style=\"text-align: right;\">\n",
              "      <th></th>\n",
              "      <th>importance</th>\n",
              "    </tr>\n",
              "  </thead>\n",
              "  <tbody>\n",
              "    <tr>\n",
              "      <th>dewtemp_F</th>\n",
              "      <td>10.789438</td>\n",
              "    </tr>\n",
              "    <tr>\n",
              "      <th>SOLIN_Wm2</th>\n",
              "      <td>8.016250</td>\n",
              "    </tr>\n",
              "    <tr>\n",
              "      <th>RH</th>\n",
              "      <td>1.415599</td>\n",
              "    </tr>\n",
              "    <tr>\n",
              "      <th>temp_F</th>\n",
              "      <td>0.003682</td>\n",
              "    </tr>\n",
              "    <tr>\n",
              "      <th>pres_Hg</th>\n",
              "      <td>0.000002</td>\n",
              "    </tr>\n",
              "  </tbody>\n",
              "</table>\n",
              "</div>"
            ],
            "text/plain": [
              "           importance\n",
              "dewtemp_F   10.789438\n",
              "SOLIN_Wm2    8.016250\n",
              "RH           1.415599\n",
              "temp_F       0.003682\n",
              "pres_Hg      0.000002"
            ]
          },
          "execution_count": 131,
          "metadata": {},
          "output_type": "execute_result"
        }
      ],
      "source": [
        "pd.DataFrame( nn_featimportance,\n",
        "             index = x.columns,\n",
        "             columns=['importance']).sort_values('importance',ascending=False)"
      ]
    },
    {
      "cell_type": "markdown",
      "metadata": {
        "id": "o2wGxV-sIV5L"
      },
      "source": [
        "<br><br><br>"
      ]
    },
    {
      "cell_type": "markdown",
      "metadata": {
        "id": "fRC4e7bLIV5L"
      },
      "source": [
        "---------------------------------------------"
      ]
    },
    {
      "cell_type": "markdown",
      "metadata": {
        "id": "X1ansax_IV5L"
      },
      "source": [
        "# Questions"
      ]
    },
    {
      "cell_type": "code",
      "execution_count": 132,
      "metadata": {
        "colab": {
          "base_uri": "https://localhost:8080/",
          "height": 340
        },
        "id": "vWSPnq5lIV5M",
        "outputId": "17ba7b91-ce7a-45c3-c2ca-5104ccc860c4"
      },
      "outputs": [
        {
          "ename": "ImportError",
          "evalue": "cannot import name 'supervised' from 'solutions' (/Users/ash/Documents/ATOC5860/.venv/lib/python3.12/site-packages/solutions/__init__.py)",
          "output_type": "error",
          "traceback": [
            "\u001b[0;31m---------------------------------------------------------------------------\u001b[0m",
            "\u001b[0;31mImportError\u001b[0m                               Traceback (most recent call last)",
            "Cell \u001b[0;32mIn[132], line 3\u001b[0m\n\u001b[1;32m      1\u001b[0m \u001b[38;5;28;01mimport\u001b[39;00m \u001b[38;5;21;01msys\u001b[39;00m\n\u001b[1;32m      2\u001b[0m \u001b[38;5;66;03m#sys.path.append('/content/drive/MyDrive/ATOC5860/ATOC5860_Spring2022_share/applicationlab6/')\u001b[39;00m\n\u001b[0;32m----> 3\u001b[0m \u001b[38;5;28;01mfrom\u001b[39;00m \u001b[38;5;21;01msolutions\u001b[39;00m \u001b[38;5;28;01mimport\u001b[39;00m supervised\n",
            "\u001b[0;31mImportError\u001b[0m: cannot import name 'supervised' from 'solutions' (/Users/ash/Documents/ATOC5860/.venv/lib/python3.12/site-packages/solutions/__init__.py)"
          ]
        }
      ],
      "source": [
        "import sys\n",
        "#sys.path.append('/content/drive/MyDrive/ATOC5860/ATOC5860_Spring2022_share/applicationlab6/')\n",
        "from solutions import supervised"
      ]
    },
    {
      "cell_type": "markdown",
      "metadata": {
        "id": "NYxg8uEPIV5M"
      },
      "source": [
        "1. __One important \"gotcha\" in ML is the order of data preparation. Why should one should perform the train-test split *before* feature scaling and rebalancing? *Hint: think about using a trained model for future predictions. Why perform a test-train split at all? Also, what data is considered when scaling a dataset?*__"
      ]
    },
    {
      "cell_type": "code",
      "execution_count": null,
      "metadata": {
        "id": "GJvPjdV3IV5M"
      },
      "outputs": [],
      "source": [
        "supervised.answer1()"
      ]
    },
    {
      "cell_type": "markdown",
      "metadata": {
        "id": "G4Jit0opIV5M"
      },
      "source": [
        "2. __Why did we choose to use accuracy, recall, and predicted precipitation probability as a way to compare models?__"
      ]
    },
    {
      "cell_type": "code",
      "execution_count": null,
      "metadata": {
        "id": "n8uuVfVZIV5M"
      },
      "outputs": [],
      "source": [
        "supervised.answer2()"
      ]
    },
    {
      "cell_type": "markdown",
      "metadata": {
        "id": "CzqcvdGuIV5M"
      },
      "source": [
        "3. __Now that you have some exposure to various models, what do you think might be some pros and cons regarding each model?__"
      ]
    },
    {
      "cell_type": "code",
      "execution_count": null,
      "metadata": {
        "id": "tKPhMXKHIV5M"
      },
      "outputs": [],
      "source": [
        "supervised.answer3()"
      ]
    },
    {
      "cell_type": "markdown",
      "metadata": {
        "id": "tPW3rYHLIV5M"
      },
      "source": [
        "4. __Collinearity, or non-zero correlation among features, results in a model that is overly complex, reduces the statistical significance of the fit of the model, and prevents one from correctly identifying the importance of features. Are there features included in these models that are collinear? You may assess this by running the code below. If so, how do you think we should address collinearity?__"
      ]
    },
    {
      "cell_type": "code",
      "execution_count": 133,
      "metadata": {
        "id": "2acVB3pmIV5M"
      },
      "outputs": [
        {
          "data": {
            "image/png": "[encoded data removed]",
            "text/plain": [
              "<Figure size 1500x1500 with 2 Axes>"
            ]
          },
          "metadata": {},
          "output_type": "display_data"
        }
      ],
      "source": [
        "plt.figure(figsize=[15, 15])\n",
        "ax = sns.heatmap(x.corr(), cmap='coolwarm', annot=True, linewidths=0.2, square=True, vmin=-1, vmax=1,annot_kws={\"size\": 18});\n",
        "plt.xticks(fontsize=20,rotation=45);\n",
        "plt.yticks(fontsize=20,rotation=0);"
      ]
    },
    {
      "cell_type": "code",
      "execution_count": null,
      "metadata": {
        "id": "-z_4qNKSIV5M"
      },
      "outputs": [],
      "source": [
        "supervised.answer4()"
      ]
    },
    {
      "cell_type": "code",
      "execution_count": null,
      "metadata": {
        "id": "OmVkVTKbIV5M"
      },
      "outputs": [],
      "source": [
        "# !python \"/content/drive/MyDrive/ATOC5860/ATOC5860_Spring2022_share/applicationlab6/collinearity_solution.py\""
      ]
    },
    {
      "cell_type": "markdown",
      "metadata": {
        "id": "OzH02cugg_eV"
      },
      "source": [
        "5. __Above, we selected on subset of the data to be the testing dataset, and the remaining data to be our training data. Can you think of any issues with this approach__?"
      ]
    },
    {
      "cell_type": "code",
      "execution_count": null,
      "metadata": {
        "id": "l9GgB97whVV3"
      },
      "outputs": [],
      "source": [
        "supervised.answer5()"
      ]
    },
    {
      "cell_type": "markdown",
      "metadata": {
        "id": "Byxh6bC8IV5N"
      },
      "source": [
        "6. __For fun:__\n",
        "    - __Try a different set of parameters for the random forest. How do the metrics change? Does the model overfit?__\n",
        "    - __Try playing around with the neural network to see what happens. You can change the optimizer, the batch size, the number of epochs, the activation function of the last layer, and the learning rate. How do the metrics change? Does the model overfit? Do you run into errors?__"
      ]
    }
  ],
  "metadata": {
    "colab": {
      "collapsed_sections": [
        "8Mml7XyMIV47",
        "4j2h_GB6IV5D"
      ],
      "provenance": [],
      "toc_visible": true
    },
    "kernelspec": {
      "display_name": ".venv",
      "language": "python",
      "name": "python3"
    },
    "language_info": {
      "codemirror_mode": {
        "name": "ipython",
        "version": 3
      },
      "file_extension": ".py",
      "mimetype": "text/x-python",
      "name": "python",
      "nbconvert_exporter": "python",
      "pygments_lexer": "ipython3",
      "version": "3.12.2"
    }
  },
  "nbformat": 4,
  "nbformat_minor": 0
}
