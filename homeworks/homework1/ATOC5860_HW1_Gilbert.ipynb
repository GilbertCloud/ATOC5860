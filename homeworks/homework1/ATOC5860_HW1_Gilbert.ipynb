{
 "cells": [
  {
   "cell_type": "markdown",
   "metadata": {},
   "source": [
    "## ATOC 5860 - Homework 1\n",
    "### Ash Gilbert\n",
    "### Due January 30, 2024"
   ]
  },
  {
   "cell_type": "markdown",
   "metadata": {},
   "source": [
    "#### Packages"
   ]
  },
  {
   "cell_type": "code",
   "execution_count": 4,
   "metadata": {},
   "outputs": [],
   "source": [
    "%matplotlib inline\n",
    "import matplotlib   # library for plotting\n",
    "import matplotlib.pyplot as plt # basic plotting; later you will type plt.$COMMAND\n",
    "import numpy as np # basic math library  you will type np.$STUFF  e.g., np.cos(1)\n",
    "import scipy.stats as stats # imports stats functions https://docs.scipy.org/doc/scipy/reference/stats.html  \n",
    "import xarray as xr  ##netcdf manipulation - slick array manipulation\n",
    "import pandas as pd"
   ]
  },
  {
   "cell_type": "markdown",
   "metadata": {},
   "source": [
    "#### Filepaths & open data"
   ]
  },
  {
   "cell_type": "code",
   "execution_count": 5,
   "metadata": {},
   "outputs": [],
   "source": [
    "# Filepaths\n",
    "path_to_data = '/Users/ash/Documents/ATOC5860/homeworks/homework1/homework1_data.csv'\n",
    "path_out_graphs = '/Users/ash/Documents/ATOC5860/homeworks/homework1/'\n",
    "\n",
    "# Read in data\n",
    "FtCol_ds = pd.read_csv(path_to_data)"
   ]
  },
  {
   "cell_type": "markdown",
   "metadata": {},
   "source": [
    "#### Average pressures"
   ]
  },
  {
   "cell_type": "code",
   "execution_count": 11,
   "metadata": {},
   "outputs": [
    {
     "name": "stdout",
     "output_type": "stream",
     "text": [
      "Average pressure: 846.33 hPa\n",
      "Average pressure when raining: 847.03 hPa\n"
     ]
    }
   ],
   "source": [
    "# Calculate means\n",
    "ps_mean = FtCol_ds['P_hPa'].mean()\n",
    "ps_rain_mean = FtCol_ds[FtCol_ds.R_inches >= 0.01]['P_hPa'].mean()\n",
    "\n",
    "print('Average pressure: {:.2f} hPa'.format(ps_mean))\n",
    "print('Average pressure when raining: {:.2f} hPa'.format(ps_rain_mean))\n",
    "\n",
    "# Calculate standard devations & Ns\n",
    "ps_std = FtCol_ds['P_hPa'].std()\n",
    "ps_rain_std = FtCol_ds[FtCol_ds.R_inches >= 0.01]['P_hPa'].std()\n",
    "ps_N = FtCol_ds['P_hPa'].count()\n",
    "ps_rain_N = FtCol_ds[FtCol_ds.R_inches >= 0.01]['P_hPa'].count()"
   ]
  },
  {
   "cell_type": "markdown",
   "metadata": {},
   "source": [
    "#### Confidence interval - t-statistic"
   ]
  },
  {
   "cell_type": "code",
   "execution_count": 1,
   "metadata": {},
   "outputs": [
    {
     "name": "stdout",
     "output_type": "stream",
     "text": [
      "/Users/ash/Documents/ATOC5860/homeworks/homework1\n"
     ]
    }
   ],
   "source": [
    "# Calculate t-statistic for 95% CI\n",
    "tstat = stats.t.cdf(0.975,)"
   ]
  },
  {
   "cell_type": "markdown",
   "metadata": {},
   "source": [
    "#### Confidence interval - z-statistic"
   ]
  },
  {
   "cell_type": "code",
   "execution_count": null,
   "metadata": {},
   "outputs": [],
   "source": []
  },
  {
   "cell_type": "markdown",
   "metadata": {},
   "source": [
    "#### Hypothesis test - z-test"
   ]
  },
  {
   "cell_type": "code",
   "execution_count": null,
   "metadata": {},
   "outputs": [],
   "source": []
  },
  {
   "cell_type": "markdown",
   "metadata": {},
   "source": [
    "#### Bootstrapping"
   ]
  },
  {
   "cell_type": "code",
   "execution_count": null,
   "metadata": {},
   "outputs": [],
   "source": []
  }
 ],
 "metadata": {
  "kernelspec": {
   "display_name": "Python 3",
   "language": "python",
   "name": "python3"
  },
  "language_info": {
   "codemirror_mode": {
    "name": "ipython",
    "version": 3
   },
   "file_extension": ".py",
   "mimetype": "text/x-python",
   "name": "python",
   "nbconvert_exporter": "python",
   "pygments_lexer": "ipython3",
   "version": "3.11.3"
  }
 },
 "nbformat": 4,
 "nbformat_minor": 2
}
